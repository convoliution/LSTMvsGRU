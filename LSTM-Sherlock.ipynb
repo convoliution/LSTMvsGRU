{
 "cells": [
  {
   "cell_type": "markdown",
   "metadata": {},
   "source": [
    "# Imports"
   ]
  },
  {
   "cell_type": "code",
   "execution_count": 1,
   "metadata": {},
   "outputs": [],
   "source": [
    "import numpy as np\n",
    "\n",
    "import matplotlib.pyplot as plt\n",
    "\n",
    "import torch\n",
    "import torch.nn as nn\n",
    "import torch.optim as optim\n",
    "\n",
    "import os"
   ]
  },
  {
   "cell_type": "code",
   "execution_count": 2,
   "metadata": {},
   "outputs": [],
   "source": [
    "import models\n",
    "import utils"
   ]
  },
  {
   "cell_type": "markdown",
   "metadata": {},
   "source": [
    "# GPU"
   ]
  },
  {
   "cell_type": "code",
   "execution_count": 3,
   "metadata": {},
   "outputs": [
    {
     "name": "stdout",
     "output_type": "stream",
     "text": [
      "1\n"
     ]
    }
   ],
   "source": [
    "os.environ['CUDA_DEVICE_ORDER'] = 'PCI_BUS_ID'\n",
    "os.environ['CUDA_VISIBLE_DEVICES'] = '4'\n",
    "print(torch.cuda.device_count())"
   ]
  },
  {
   "cell_type": "markdown",
   "metadata": {},
   "source": [
    "# Data"
   ]
  },
  {
   "cell_type": "code",
   "execution_count": 4,
   "metadata": {},
   "outputs": [],
   "source": [
    "sherlock = utils.read_file(\"data/sherlock.txt\")"
   ]
  },
  {
   "cell_type": "markdown",
   "metadata": {},
   "source": [
    "# Model"
   ]
  },
  {
   "cell_type": "code",
   "execution_count": 5,
   "metadata": {},
   "outputs": [],
   "source": [
    "seq_len = 128\n",
    "hidden_size = 512\n",
    "learning_rate = 1e-3\n",
    "num_epochs = 128"
   ]
  },
  {
   "cell_type": "code",
   "execution_count": 6,
   "metadata": {},
   "outputs": [],
   "source": [
    "model = models.LSTM(utils.num_letters, hidden_size, utils.num_letters)\n",
    "criterion = nn.NLLLoss()\n",
    "optimizer = optim.Adam(model.parameters(), lr=learning_rate)"
   ]
  },
  {
   "cell_type": "code",
   "execution_count": 7,
   "metadata": {
    "scrolled": false
   },
   "outputs": [
    {
     "name": "stdout",
     "output_type": "stream",
     "text": [
      "Epoch 1 loss: 3.091821540147066, 1 minute(s) 15 second(s) elapsed\n",
      "Epoch 2 loss: 2.9665795750916004, 2 minute(s) 20 second(s) elapsed\n",
      "Epoch 3 loss: 2.9654096737504005, 3 minute(s) 21 second(s) elapsed\n",
      "Epoch 4 loss: 2.8684100806713104, 4 minute(s) 23 second(s) elapsed\n",
      "Epoch 5 loss: 2.6766536459326744, 5 minute(s) 28 second(s) elapsed\n",
      "Epoch 6 loss: 2.494417827576399, 6 minute(s) 33 second(s) elapsed\n",
      "Epoch 7 loss: 2.3677656687796116, 7 minute(s) 36 second(s) elapsed\n",
      "Epoch 8 loss: 2.340687956660986, 8 minute(s) 40 second(s) elapsed\n",
      "Epoch 9 loss: 2.253632266074419, 9 minute(s) 42 second(s) elapsed\n",
      "Epoch 10 loss: 2.248624363914132, 10 minute(s) 45 second(s) elapsed\n",
      "Epoch 11 loss: 2.25598032400012, 11 minute(s) 47 second(s) elapsed\n",
      "Epoch 12 loss: 2.2142381854355335, 12 minute(s) 46 second(s) elapsed\n",
      "Epoch 13 loss: 2.18131060898304, 13 minute(s) 47 second(s) elapsed\n",
      "Epoch 14 loss: 2.1540147587656975, 14 minute(s) 50 second(s) elapsed\n",
      "Epoch 15 loss: 2.112187247723341, 15 minute(s) 55 second(s) elapsed\n",
      "Epoch 16 loss: 2.1201696917414665, 16 minute(s) 59 second(s) elapsed\n",
      "Epoch 17 loss: 2.0672550909221172, 18 minute(s) 2 second(s) elapsed\n",
      "Epoch 18 loss: 2.069688832387328, 19 minute(s) 7 second(s) elapsed\n",
      "Epoch 19 loss: 2.0365672446787357, 20 minute(s) 10 second(s) elapsed\n",
      "Epoch 20 loss: 2.016680920496583, 21 minute(s) 12 second(s) elapsed\n",
      "Epoch 21 loss: 2.049865949898958, 22 minute(s) 14 second(s) elapsed\n",
      "Epoch 22 loss: 2.0334195755422115, 23 minute(s) 14 second(s) elapsed\n",
      "Epoch 23 loss: 1.9863795265555382, 24 minute(s) 16 second(s) elapsed\n",
      "Epoch 24 loss: 2.0012438222765923, 25 minute(s) 18 second(s) elapsed\n",
      "Epoch 25 loss: 1.9647692926228046, 26 minute(s) 22 second(s) elapsed\n",
      "Epoch 26 loss: 1.9670111425220966, 27 minute(s) 26 second(s) elapsed\n",
      "Epoch 27 loss: 1.9733948204666376, 28 minute(s) 31 second(s) elapsed\n",
      "Epoch 28 loss: 1.956781193614006, 29 minute(s) 36 second(s) elapsed\n",
      "Epoch 29 loss: 1.9612152241170406, 30 minute(s) 41 second(s) elapsed\n",
      "Epoch 30 loss: 1.9447883386164904, 31 minute(s) 43 second(s) elapsed\n",
      "Epoch 31 loss: 1.9128229077905416, 32 minute(s) 45 second(s) elapsed\n",
      "Epoch 32 loss: 1.90250488743186, 33 minute(s) 46 second(s) elapsed\n",
      "Epoch 33 loss: 1.8960646614432335, 34 minute(s) 48 second(s) elapsed\n",
      "Epoch 34 loss: 1.9019588138908148, 35 minute(s) 49 second(s) elapsed\n",
      "Epoch 35 loss: 1.8485669735819101, 36 minute(s) 53 second(s) elapsed\n",
      "Epoch 36 loss: 1.886577770113945, 37 minute(s) 55 second(s) elapsed\n",
      "Epoch 37 loss: 1.8654405176639557, 38 minute(s) 59 second(s) elapsed\n",
      "Epoch 38 loss: 1.8550347667187452, 40 minute(s) 5 second(s) elapsed\n",
      "Epoch 39 loss: 1.8879067339003086, 41 minute(s) 6 second(s) elapsed\n",
      "Epoch 40 loss: 1.849073626101017, 42 minute(s) 8 second(s) elapsed\n",
      "Epoch 41 loss: 1.844972113147378, 43 minute(s) 10 second(s) elapsed\n",
      "Epoch 42 loss: 1.8153286911547184, 44 minute(s) 12 second(s) elapsed\n",
      "Epoch 43 loss: 1.8097976334393024, 45 minute(s) 13 second(s) elapsed\n",
      "Epoch 44 loss: 1.8235270772129297, 46 minute(s) 16 second(s) elapsed\n",
      "Epoch 45 loss: 1.8073800057172775, 47 minute(s) 19 second(s) elapsed\n",
      "Epoch 46 loss: 1.7872286885976791, 48 minute(s) 20 second(s) elapsed\n",
      "Epoch 47 loss: 1.763822441920638, 49 minute(s) 24 second(s) elapsed\n",
      "Epoch 48 loss: 1.7951002977788448, 50 minute(s) 27 second(s) elapsed\n",
      "Epoch 49 loss: 1.7823398411273956, 51 minute(s) 28 second(s) elapsed\n",
      "Epoch 50 loss: 1.7563481759279966, 52 minute(s) 29 second(s) elapsed\n",
      "Epoch 51 loss: 1.7495613861829042, 53 minute(s) 32 second(s) elapsed\n",
      "Epoch 52 loss: 1.7639770936220884, 54 minute(s) 33 second(s) elapsed\n",
      "Epoch 53 loss: 1.7575562186539173, 55 minute(s) 36 second(s) elapsed\n",
      "Epoch 54 loss: 1.7556720022112131, 56 minute(s) 41 second(s) elapsed\n",
      "Epoch 55 loss: 1.760746169835329, 57 minute(s) 43 second(s) elapsed\n",
      "Epoch 56 loss: 1.7690284755080938, 58 minute(s) 44 second(s) elapsed\n",
      "Epoch 57 loss: 1.701103113591671, 59 minute(s) 45 second(s) elapsed\n",
      "Epoch 58 loss: 1.7570423986762762, 60 minute(s) 48 second(s) elapsed\n",
      "Epoch 59 loss: 1.7348563428968191, 61 minute(s) 52 second(s) elapsed\n",
      "Epoch 60 loss: 1.7571549639105797, 62 minute(s) 55 second(s) elapsed\n",
      "Epoch 61 loss: 1.7484288606792688, 63 minute(s) 56 second(s) elapsed\n",
      "Epoch 62 loss: 1.7184321265667677, 64 minute(s) 58 second(s) elapsed\n",
      "Epoch 63 loss: 1.7226218339055777, 66 minute(s) 0 second(s) elapsed\n",
      "Epoch 64 loss: 1.6805047653615475, 67 minute(s) 5 second(s) elapsed\n",
      "Epoch 65 loss: 1.7128641456365585, 68 minute(s) 9 second(s) elapsed\n",
      "Epoch 66 loss: 1.6789273396134377, 69 minute(s) 17 second(s) elapsed\n",
      "Epoch 67 loss: 1.6709867510944605, 70 minute(s) 18 second(s) elapsed\n",
      "Epoch 68 loss: 1.695774944499135, 71 minute(s) 20 second(s) elapsed\n",
      "Epoch 69 loss: 1.6852788049727678, 72 minute(s) 24 second(s) elapsed\n",
      "Epoch 70 loss: 1.688162898644805, 73 minute(s) 26 second(s) elapsed\n",
      "Epoch 71 loss: 1.6828243061900139, 74 minute(s) 29 second(s) elapsed\n",
      "Epoch 72 loss: 1.689806492999196, 75 minute(s) 32 second(s) elapsed\n",
      "Epoch 73 loss: 1.6761748548597097, 76 minute(s) 35 second(s) elapsed\n",
      "Epoch 74 loss: 1.6510098446160555, 77 minute(s) 41 second(s) elapsed\n",
      "Epoch 75 loss: 1.670319838449359, 78 minute(s) 46 second(s) elapsed\n",
      "Epoch 76 loss: 1.6547910682857037, 79 minute(s) 48 second(s) elapsed\n",
      "Epoch 77 loss: 1.6691394876688719, 80 minute(s) 50 second(s) elapsed\n",
      "Epoch 78 loss: 1.6285207476466894, 81 minute(s) 52 second(s) elapsed\n",
      "Epoch 79 loss: 1.630109567195177, 82 minute(s) 55 second(s) elapsed\n",
      "Epoch 80 loss: 1.6469657272100449, 83 minute(s) 57 second(s) elapsed\n",
      "Epoch 81 loss: 1.6401845905929804, 84 minute(s) 58 second(s) elapsed\n",
      "Epoch 82 loss: 1.6371536124497652, 86 minute(s) 2 second(s) elapsed\n",
      "Epoch 83 loss: 1.6712051443755627, 87 minute(s) 7 second(s) elapsed\n",
      "Epoch 84 loss: 1.6269014533609152, 88 minute(s) 10 second(s) elapsed\n",
      "Epoch 85 loss: 1.6309518124908209, 89 minute(s) 13 second(s) elapsed\n",
      "Epoch 86 loss: 1.604420067742467, 90 minute(s) 15 second(s) elapsed\n",
      "Epoch 87 loss: 1.6301057748496532, 91 minute(s) 21 second(s) elapsed\n",
      "Epoch 88 loss: 1.6578519493341446, 92 minute(s) 22 second(s) elapsed\n",
      "Epoch 89 loss: 1.6276538465172052, 93 minute(s) 24 second(s) elapsed\n",
      "Epoch 90 loss: 1.658651128411293, 94 minute(s) 27 second(s) elapsed\n",
      "Epoch 91 loss: 1.624710664153099, 95 minute(s) 28 second(s) elapsed\n",
      "Epoch 92 loss: 1.5719964783638716, 96 minute(s) 29 second(s) elapsed\n",
      "Epoch 93 loss: 1.6198213584721088, 97 minute(s) 31 second(s) elapsed\n",
      "Epoch 94 loss: 1.605716535821557, 98 minute(s) 37 second(s) elapsed\n",
      "Epoch 95 loss: 1.603000357747078, 99 minute(s) 40 second(s) elapsed\n",
      "Epoch 96 loss: 1.6083760429173708, 100 minute(s) 41 second(s) elapsed\n",
      "Epoch 97 loss: 1.5881191119551659, 101 minute(s) 45 second(s) elapsed\n",
      "Epoch 98 loss: 1.63263632170856, 102 minute(s) 49 second(s) elapsed\n",
      "Epoch 99 loss: 1.6081458255648613, 103 minute(s) 51 second(s) elapsed\n",
      "Epoch 100 loss: 1.6239156406372786, 104 minute(s) 53 second(s) elapsed\n",
      "Epoch 101 loss: 1.5836552549153566, 105 minute(s) 54 second(s) elapsed\n",
      "Epoch 102 loss: 1.6052882298827171, 106 minute(s) 55 second(s) elapsed\n",
      "Epoch 103 loss: 1.6565992087125778, 107 minute(s) 56 second(s) elapsed\n",
      "Epoch 104 loss: 1.601217195391655, 109 minute(s) 0 second(s) elapsed\n",
      "Epoch 105 loss: 1.5748635102063417, 110 minute(s) 6 second(s) elapsed\n",
      "Epoch 106 loss: 1.5793093461543322, 111 minute(s) 9 second(s) elapsed\n",
      "Epoch 107 loss: 1.6385081801563501, 112 minute(s) 11 second(s) elapsed\n",
      "Epoch 108 loss: 1.5559112019836903, 113 minute(s) 13 second(s) elapsed\n",
      "Epoch 109 loss: 1.6101001165807247, 114 minute(s) 14 second(s) elapsed\n",
      "Epoch 110 loss: 1.5398571155965328, 115 minute(s) 17 second(s) elapsed\n",
      "Epoch 111 loss: 1.541644711047411, 116 minute(s) 19 second(s) elapsed\n",
      "Epoch 112 loss: 1.5803134888410568, 117 minute(s) 21 second(s) elapsed\n",
      "Epoch 113 loss: 1.551933839917183, 118 minute(s) 25 second(s) elapsed\n",
      "Epoch 114 loss: 1.5510564595460892, 119 minute(s) 28 second(s) elapsed\n",
      "Epoch 115 loss: 1.6028874348849058, 120 minute(s) 32 second(s) elapsed\n",
      "Epoch 116 loss: 1.5346770770847797, 121 minute(s) 38 second(s) elapsed\n",
      "Epoch 117 loss: 1.56539037078619, 122 minute(s) 41 second(s) elapsed\n",
      "Epoch 118 loss: 1.5365259516984224, 123 minute(s) 44 second(s) elapsed\n",
      "Epoch 119 loss: 1.555837830528617, 124 minute(s) 48 second(s) elapsed\n"
     ]
    },
    {
     "name": "stdout",
     "output_type": "stream",
     "text": [
      "Epoch 120 loss: 1.5304303523153067, 125 minute(s) 53 second(s) elapsed\n",
      "Epoch 121 loss: 1.5691201835870743, 126 minute(s) 56 second(s) elapsed\n",
      "Epoch 122 loss: 1.575496144592762, 127 minute(s) 58 second(s) elapsed\n",
      "Epoch 123 loss: 1.5663829501718283, 129 minute(s) 2 second(s) elapsed\n",
      "Epoch 124 loss: 1.547619478777051, 130 minute(s) 6 second(s) elapsed\n",
      "Epoch 125 loss: 1.5146762616932392, 131 minute(s) 9 second(s) elapsed\n",
      "Epoch 126 loss: 1.571286603808403, 132 minute(s) 13 second(s) elapsed\n",
      "Epoch 127 loss: 1.5622143652290106, 133 minute(s) 16 second(s) elapsed\n",
      "Epoch 128 loss: 1.5226999800652266, 134 minute(s) 20 second(s) elapsed\n"
     ]
    }
   ],
   "source": [
    "model.train(sherlock, seq_len, criterion, optimizer, num_epochs=num_epochs)"
   ]
  },
  {
   "cell_type": "code",
   "execution_count": 13,
   "metadata": {},
   "outputs": [],
   "source": [
    "torch.save(model.state_dict(), \"results/trained-models/LSTM-Sherlock\")\n",
    "np.save(\"results/loss-histories/LSTM-Sherlock.npy\", model.loss_history)"
   ]
  },
  {
   "cell_type": "code",
   "execution_count": 8,
   "metadata": {},
   "outputs": [
    {
     "data": {
      "image/png": "[encoded data removed]",
      "text/plain": [
       "<matplotlib.figure.Figure at 0x7f09fd1ae978>"
      ]
     },
     "metadata": {},
     "output_type": "display_data"
    }
   ],
   "source": [
    "plt.plot(model.loss_history)\n",
    "plt.title(\"Loss History\")\n",
    "plt.ylabel(\"Loss\")\n",
    "plt.xlabel(\"Epoch\")\n",
    "plt.show()"
   ]
  },
  {
   "cell_type": "code",
   "execution_count": 15,
   "metadata": {},
   "outputs": [
    {
     "name": "stdout",
     "output_type": "stream",
     "text": [
      "T the door and that you was a stand of the starts of the lodge of the most be that the stand of the\n",
      "     course of the could be a same of an instant of the struck of the stant of the\n",
      "     stand of the stant of the singulty which had some that the dead of the face of the standers of the stall of the dear of the stant of the\n",
      "     state of the door of the second had a say and a man which had a strang\n",
      "     the songuation which have a man which have a shopt of a shall and the man with a singular of the stand of a colider of them that\n",
      "     there was a sell of the stanter and a seepend that the start of the stant of the sometion. It is a seary and the\n",
      "     same and that the start of the morring and the more was and the stantly of the singular of the room of the sengene of the man and the man and the stant\n",
      "     and the stand of the could be a stand of the dest that the singular who was\n",
      "     a sector. The man was a sentered the room and the more door. I had see the\n",
      "     stand of the street of the door of the course who had been his contrusions of the more of a most read and the door be the door of a possible which had been the some to that\n",
      "     the state--and the more to the sold off and the morning of the stand of the stand of the stare of the house\n",
      "     was a singular of the man which had see the door of the strenger off the man over the shows and the store of the\n",
      "     contintly and the solest of the paster of a strange of the stanter of the stair of the\n",
      "     stand of the state of the starter of the man which had a sender off the man of the mander of the section.\n",
      "\n",
      "     The looked the more to the moor of the sort of the standing of the man was a stand of\n",
      "     the days and that the start of the door. The man which have to the more\n",
      "     the most have a sholl of the man which had been the other start of the some of the\n",
      "     cand and startly off the man which little to the same of the solver of the man of the most starter of the morning\n",
      "     and the state of the died and the stand of the morn and the stanting of the sech of t\n"
     ]
    }
   ],
   "source": [
    "print(model.generate(2048))"
   ]
  }
 ],
 "metadata": {
  "kernelspec": {
   "display_name": "Python 3",
   "language": "python",
   "name": "python3"
  },
  "language_info": {
   "codemirror_mode": {
    "name": "ipython",
    "version": 3
   },
   "file_extension": ".py",
   "mimetype": "text/x-python",
   "name": "python",
   "nbconvert_exporter": "python",
   "pygments_lexer": "ipython3",
   "version": "3.6.3"
  }
 },
 "nbformat": 4,
 "nbformat_minor": 2
}
