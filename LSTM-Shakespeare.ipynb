{
 "cells": [
  {
   "cell_type": "markdown",
   "metadata": {},
   "source": [
    "# Imports"
   ]
  },
  {
   "cell_type": "code",
   "execution_count": 1,
   "metadata": {},
   "outputs": [],
   "source": [
    "import numpy as np\n",
    "\n",
    "import matplotlib.pyplot as plt\n",
    "\n",
    "import torch\n",
    "import torch.nn as nn\n",
    "import torch.optim as optim\n",
    "\n",
    "import os"
   ]
  },
  {
   "cell_type": "code",
   "execution_count": 2,
   "metadata": {},
   "outputs": [],
   "source": [
    "import models\n",
    "import utils"
   ]
  },
  {
   "cell_type": "markdown",
   "metadata": {},
   "source": [
    "# GPU"
   ]
  },
  {
   "cell_type": "code",
   "execution_count": 3,
   "metadata": {},
   "outputs": [
    {
     "name": "stdout",
     "output_type": "stream",
     "text": [
      "1\n"
     ]
    }
   ],
   "source": [
    "os.environ['CUDA_DEVICE_ORDER'] = 'PCI_BUS_ID'\n",
    "os.environ['CUDA_VISIBLE_DEVICES'] = '4'\n",
    "print(torch.cuda.device_count())"
   ]
  },
  {
   "cell_type": "markdown",
   "metadata": {},
   "source": [
    "# Data"
   ]
  },
  {
   "cell_type": "code",
   "execution_count": 4,
   "metadata": {},
   "outputs": [],
   "source": [
    "shakespeare = utils.read_file(\"data/shakespeare.txt\")"
   ]
  },
  {
   "cell_type": "markdown",
   "metadata": {},
   "source": [
    "# Model"
   ]
  },
  {
   "cell_type": "code",
   "execution_count": 5,
   "metadata": {},
   "outputs": [],
   "source": [
    "seq_len = 128\n",
    "hidden_size = 512\n",
    "learning_rate = 1e-3\n",
    "num_epochs = 128"
   ]
  },
  {
   "cell_type": "code",
   "execution_count": 6,
   "metadata": {},
   "outputs": [],
   "source": [
    "model = models.LSTM(utils.num_letters, hidden_size, utils.num_letters)\n",
    "criterion = nn.NLLLoss()\n",
    "optimizer = optim.Adam(model.parameters(), lr=learning_rate)"
   ]
  },
  {
   "cell_type": "code",
   "execution_count": 7,
   "metadata": {
    "scrolled": false
   },
   "outputs": [
    {
     "name": "stdout",
     "output_type": "stream",
     "text": [
      "Epoch 1 loss: 3.3984696231782436, 1 minute(s) 16 second(s) elapsed\n",
      "Epoch 2 loss: 3.30828420445323, 2 minute(s) 21 second(s) elapsed\n",
      "Epoch 3 loss: 3.272355653345585, 3 minute(s) 23 second(s) elapsed\n",
      "Epoch 4 loss: 3.1698527224361897, 4 minute(s) 26 second(s) elapsed\n",
      "Epoch 5 loss: 2.9701840952038765, 5 minute(s) 34 second(s) elapsed\n",
      "Epoch 6 loss: 2.780551817268133, 6 minute(s) 42 second(s) elapsed\n",
      "Epoch 7 loss: 2.6277307122945786, 7 minute(s) 44 second(s) elapsed\n",
      "Epoch 8 loss: 2.5607828572392464, 8 minute(s) 51 second(s) elapsed\n",
      "Epoch 9 loss: 2.500071655958891, 9 minute(s) 52 second(s) elapsed\n",
      "Epoch 10 loss: 2.498887464404106, 10 minute(s) 55 second(s) elapsed\n",
      "Epoch 11 loss: 2.4458333775401115, 11 minute(s) 57 second(s) elapsed\n",
      "Epoch 12 loss: 2.434387154877186, 12 minute(s) 58 second(s) elapsed\n",
      "Epoch 13 loss: 2.4184275548905134, 14 minute(s) 0 second(s) elapsed\n",
      "Epoch 14 loss: 2.3857345767319202, 15 minute(s) 6 second(s) elapsed\n",
      "Epoch 15 loss: 2.332132887095213, 16 minute(s) 11 second(s) elapsed\n",
      "Epoch 16 loss: 2.3632951229810715, 17 minute(s) 18 second(s) elapsed\n",
      "Epoch 17 loss: 2.3490910790860653, 18 minute(s) 22 second(s) elapsed\n",
      "Epoch 18 loss: 2.2792677506804466, 19 minute(s) 29 second(s) elapsed\n",
      "Epoch 19 loss: 2.303192622959614, 20 minute(s) 34 second(s) elapsed\n",
      "Epoch 20 loss: 2.255214747041464, 21 minute(s) 39 second(s) elapsed\n",
      "Epoch 21 loss: 2.249505804851651, 22 minute(s) 42 second(s) elapsed\n",
      "Epoch 22 loss: 2.2350379582494497, 23 minute(s) 44 second(s) elapsed\n",
      "Epoch 23 loss: 2.201525829732418, 24 minute(s) 46 second(s) elapsed\n",
      "Epoch 24 loss: 2.1668066140264273, 25 minute(s) 51 second(s) elapsed\n",
      "Epoch 25 loss: 2.1814706716686487, 26 minute(s) 56 second(s) elapsed\n",
      "Epoch 26 loss: 2.152592249214649, 28 minute(s) 0 second(s) elapsed\n",
      "Epoch 27 loss: 2.1676197070628405, 29 minute(s) 6 second(s) elapsed\n",
      "Epoch 28 loss: 2.145193625241518, 30 minute(s) 12 second(s) elapsed\n",
      "Epoch 29 loss: 2.1115947011858225, 31 minute(s) 17 second(s) elapsed\n",
      "Epoch 30 loss: 2.1221535112708807, 32 minute(s) 20 second(s) elapsed\n",
      "Epoch 31 loss: 2.11022837087512, 33 minute(s) 24 second(s) elapsed\n",
      "Epoch 32 loss: 2.1104563400149345, 34 minute(s) 25 second(s) elapsed\n",
      "Epoch 33 loss: 2.089779283851385, 35 minute(s) 29 second(s) elapsed\n",
      "Epoch 34 loss: 2.059424364939332, 36 minute(s) 31 second(s) elapsed\n",
      "Epoch 35 loss: 2.0791185330599546, 37 minute(s) 36 second(s) elapsed\n",
      "Epoch 36 loss: 2.039782578125596, 38 minute(s) 40 second(s) elapsed\n",
      "Epoch 37 loss: 2.0104400776326656, 39 minute(s) 46 second(s) elapsed\n",
      "Epoch 38 loss: 2.018451178446412, 40 minute(s) 49 second(s) elapsed\n",
      "Epoch 39 loss: 2.024448959156871, 41 minute(s) 52 second(s) elapsed\n",
      "Epoch 40 loss: 1.9984178524464369, 42 minute(s) 55 second(s) elapsed\n",
      "Epoch 41 loss: 2.0036678556352854, 43 minute(s) 57 second(s) elapsed\n",
      "Epoch 42 loss: 2.007236149162054, 45 minute(s) 0 second(s) elapsed\n",
      "Epoch 43 loss: 1.9931788593530655, 46 minute(s) 4 second(s) elapsed\n",
      "Epoch 44 loss: 1.968488683924079, 47 minute(s) 9 second(s) elapsed\n",
      "Epoch 45 loss: 1.9656585194170475, 48 minute(s) 12 second(s) elapsed\n",
      "Epoch 46 loss: 1.9636868312954903, 49 minute(s) 16 second(s) elapsed\n",
      "Epoch 47 loss: 1.9834044575691223, 50 minute(s) 20 second(s) elapsed\n",
      "Epoch 48 loss: 1.912113569676876, 51 minute(s) 21 second(s) elapsed\n",
      "Epoch 49 loss: 1.9413506519049406, 52 minute(s) 22 second(s) elapsed\n",
      "Epoch 50 loss: 1.928368242457509, 53 minute(s) 24 second(s) elapsed\n",
      "Epoch 51 loss: 1.9413332622498274, 54 minute(s) 27 second(s) elapsed\n",
      "Epoch 52 loss: 1.8899465128779411, 55 minute(s) 33 second(s) elapsed\n",
      "Epoch 53 loss: 1.9625193178653717, 56 minute(s) 40 second(s) elapsed\n",
      "Epoch 54 loss: 1.9141066763550043, 57 minute(s) 43 second(s) elapsed\n",
      "Epoch 55 loss: 1.91482812166214, 58 minute(s) 45 second(s) elapsed\n",
      "Epoch 56 loss: 1.8992179557681084, 59 minute(s) 50 second(s) elapsed\n",
      "Epoch 57 loss: 1.9300024453550577, 60 minute(s) 54 second(s) elapsed\n",
      "Epoch 58 loss: 1.9551071599125862, 61 minute(s) 59 second(s) elapsed\n",
      "Epoch 59 loss: 1.85827742703259, 62 minute(s) 59 second(s) elapsed\n",
      "Epoch 60 loss: 1.9025026597082615, 64 minute(s) 2 second(s) elapsed\n",
      "Epoch 61 loss: 1.8555841818451881, 65 minute(s) 5 second(s) elapsed\n",
      "Epoch 62 loss: 1.8757500350475311, 66 minute(s) 7 second(s) elapsed\n",
      "Epoch 63 loss: 1.9032921064645052, 67 minute(s) 13 second(s) elapsed\n",
      "Epoch 64 loss: 1.8884809128940105, 68 minute(s) 19 second(s) elapsed\n",
      "Epoch 65 loss: 1.8155914675444365, 69 minute(s) 26 second(s) elapsed\n",
      "Epoch 66 loss: 1.8354167025536299, 70 minute(s) 27 second(s) elapsed\n",
      "Epoch 67 loss: 1.8611550834029913, 71 minute(s) 30 second(s) elapsed\n",
      "Epoch 68 loss: 1.8357379734516144, 72 minute(s) 35 second(s) elapsed\n",
      "Epoch 69 loss: 1.8287325873970985, 73 minute(s) 39 second(s) elapsed\n",
      "Epoch 70 loss: 1.8572324272245169, 74 minute(s) 42 second(s) elapsed\n",
      "Epoch 71 loss: 1.8472362011671066, 75 minute(s) 48 second(s) elapsed\n",
      "Epoch 72 loss: 1.8318173605948687, 76 minute(s) 55 second(s) elapsed\n",
      "Epoch 73 loss: 1.822231214493513, 78 minute(s) 1 second(s) elapsed\n",
      "Epoch 74 loss: 1.8387178089469671, 79 minute(s) 7 second(s) elapsed\n",
      "Epoch 75 loss: 1.8464961256831884, 80 minute(s) 11 second(s) elapsed\n",
      "Epoch 76 loss: 1.7994784992188215, 81 minute(s) 14 second(s) elapsed\n",
      "Epoch 77 loss: 1.826419785618782, 82 minute(s) 15 second(s) elapsed\n",
      "Epoch 78 loss: 1.8007518034428358, 83 minute(s) 17 second(s) elapsed\n",
      "Epoch 79 loss: 1.851429058238864, 84 minute(s) 21 second(s) elapsed\n",
      "Epoch 80 loss: 1.7989686653017998, 85 minute(s) 22 second(s) elapsed\n",
      "Epoch 81 loss: 1.7922524213790894, 86 minute(s) 28 second(s) elapsed\n",
      "Epoch 82 loss: 1.785244757309556, 87 minute(s) 33 second(s) elapsed\n",
      "Epoch 83 loss: 1.7647456023842096, 88 minute(s) 38 second(s) elapsed\n",
      "Epoch 84 loss: 1.8017629571259022, 89 minute(s) 42 second(s) elapsed\n",
      "Epoch 85 loss: 1.7772926595062017, 90 minute(s) 43 second(s) elapsed\n",
      "Epoch 86 loss: 1.7546828519552946, 91 minute(s) 46 second(s) elapsed\n",
      "Epoch 87 loss: 1.807217201218009, 92 minute(s) 48 second(s) elapsed\n",
      "Epoch 88 loss: 1.7819881550967693, 93 minute(s) 50 second(s) elapsed\n",
      "Epoch 89 loss: 1.7927711494266987, 94 minute(s) 53 second(s) elapsed\n",
      "Epoch 90 loss: 1.806559406220913, 95 minute(s) 57 second(s) elapsed\n",
      "Epoch 91 loss: 1.7229627929627895, 96 minute(s) 59 second(s) elapsed\n",
      "Epoch 92 loss: 1.773098537698388, 98 minute(s) 5 second(s) elapsed\n",
      "Epoch 93 loss: 1.791021142154932, 99 minute(s) 8 second(s) elapsed\n",
      "Epoch 94 loss: 1.7386881317943335, 100 minute(s) 10 second(s) elapsed\n",
      "Epoch 95 loss: 1.787295039743185, 101 minute(s) 13 second(s) elapsed\n",
      "Epoch 96 loss: 1.7681350354105234, 102 minute(s) 18 second(s) elapsed\n",
      "Epoch 97 loss: 1.7651990428566933, 103 minute(s) 20 second(s) elapsed\n",
      "Epoch 98 loss: 1.7514584623277187, 104 minute(s) 22 second(s) elapsed\n",
      "Epoch 99 loss: 1.766125900670886, 105 minute(s) 23 second(s) elapsed\n",
      "Epoch 100 loss: 1.739445697516203, 106 minute(s) 25 second(s) elapsed\n",
      "Epoch 101 loss: 1.7748084403574467, 107 minute(s) 26 second(s) elapsed\n",
      "Epoch 102 loss: 1.7216564156115055, 108 minute(s) 27 second(s) elapsed\n",
      "Epoch 103 loss: 1.7377948071807623, 109 minute(s) 33 second(s) elapsed\n",
      "Epoch 104 loss: 1.7467117253690958, 110 minute(s) 37 second(s) elapsed\n",
      "Epoch 105 loss: 1.7357352171093225, 111 minute(s) 40 second(s) elapsed\n",
      "Epoch 106 loss: 1.7587799709290266, 112 minute(s) 41 second(s) elapsed\n",
      "Epoch 107 loss: 1.73986304551363, 113 minute(s) 42 second(s) elapsed\n",
      "Epoch 108 loss: 1.7313979975879192, 114 minute(s) 45 second(s) elapsed\n",
      "Epoch 109 loss: 1.7272555716335773, 115 minute(s) 46 second(s) elapsed\n",
      "Epoch 110 loss: 1.7571364305913448, 116 minute(s) 47 second(s) elapsed\n",
      "Epoch 111 loss: 1.7504411544650793, 117 minute(s) 50 second(s) elapsed\n",
      "Epoch 112 loss: 1.717336293309927, 118 minute(s) 53 second(s) elapsed\n",
      "Epoch 113 loss: 1.7183532994240522, 119 minute(s) 55 second(s) elapsed\n",
      "Epoch 114 loss: 1.7548050116747618, 120 minute(s) 58 second(s) elapsed\n",
      "Epoch 115 loss: 1.688723536208272, 121 minute(s) 59 second(s) elapsed\n",
      "Epoch 116 loss: 1.754554621875286, 123 minute(s) 0 second(s) elapsed\n",
      "Epoch 117 loss: 1.7278990391641855, 124 minute(s) 1 second(s) elapsed\n",
      "Epoch 118 loss: 1.7134292032569647, 125 minute(s) 2 second(s) elapsed\n",
      "Epoch 119 loss: 1.676678927615285, 126 minute(s) 3 second(s) elapsed\n"
     ]
    },
    {
     "name": "stdout",
     "output_type": "stream",
     "text": [
      "Epoch 120 loss: 1.7179034445434809, 127 minute(s) 6 second(s) elapsed\n",
      "Epoch 121 loss: 1.7242516670376062, 128 minute(s) 5 second(s) elapsed\n",
      "Epoch 122 loss: 1.6720011979341507, 129 minute(s) 7 second(s) elapsed\n",
      "Epoch 123 loss: 1.7221961431205273, 130 minute(s) 9 second(s) elapsed\n",
      "Epoch 124 loss: 1.7045997008681297, 131 minute(s) 12 second(s) elapsed\n",
      "Epoch 125 loss: 1.7440283577889204, 132 minute(s) 14 second(s) elapsed\n",
      "Epoch 126 loss: 1.6595950536429882, 133 minute(s) 15 second(s) elapsed\n",
      "Epoch 127 loss: 1.6974072773009539, 134 minute(s) 16 second(s) elapsed\n",
      "Epoch 128 loss: 1.7056712545454502, 135 minute(s) 6 second(s) elapsed\n"
     ]
    }
   ],
   "source": [
    "model.train(shakespeare, seq_len, criterion, optimizer, num_epochs=num_epochs)"
   ]
  },
  {
   "cell_type": "code",
   "execution_count": 11,
   "metadata": {},
   "outputs": [],
   "source": [
    "torch.save(model.state_dict(), \"results/trained-models/LSTM-Shakespeare\")\n",
    "np.save(\"results/loss-histories/LSTM-Shakespeare\", model.loss_history)"
   ]
  },
  {
   "cell_type": "code",
   "execution_count": 8,
   "metadata": {},
   "outputs": [
    {
     "data": {
      "image/png": "[encoded data removed]",
      "text/plain": [
       "<matplotlib.figure.Figure at 0x7f135220b5f8>"
      ]
     },
     "metadata": {},
     "output_type": "display_data"
    }
   ],
   "source": [
    "plt.plot(model.loss_history)\n",
    "plt.title(\"Loss History\")\n",
    "plt.ylabel(\"Loss\")\n",
    "plt.xlabel(\"Epoch\")\n",
    "plt.show()"
   ]
  },
  {
   "cell_type": "code",
   "execution_count": 13,
   "metadata": {},
   "outputs": [
    {
     "name": "stdout",
     "output_type": "stream",
     "text": [
      "Tlest the stake the present the see\n",
      "\n",
      "KING RICHARD II\n",
      "\n",
      "ANGELO\n",
      "That thou are the preather to the hand,\n",
      "And then the sen the fair and the constred the freeth.\n",
      "\n",
      "KING RICHARD III\n",
      "What thou the streak and them the here the brother the consent the father the stread and the seak\n",
      "And the prepertane the sead the grace the stringer the hanger to the face\n",
      "\n",
      "PETRUCHIO\n",
      "Why, then the preser the father there the stain,\n",
      "And the pray the heard to the seep the server thee\n",
      "\n",
      "PETRUCHIO\n",
      "Why, the prove the stringer the pripent to the from here the see the will the streath\n",
      "\n",
      "SICINIUS\n",
      "And thou are to the true to the father the starder the father the faster to the heart\n",
      "The stand the father them and the stand the stands\n",
      "The coust the seak the stander to the stand the stread.\n",
      "\n",
      "PETRUCHIO\n",
      "Why, thou are the procher them the forture to the prove the crown,\n",
      "And then the seek the sea to the man\n",
      "\n",
      "LUCIO\n",
      "Ay, and thy heard the stand the striefer to the see\n",
      "\n",
      "PETRUCHIO\n",
      "O make the present to the prince the word the creat to the wind and thou hast\n",
      "The stand to the precent to thee his love to my lord.\n",
      "\n",
      "CARILLA\n",
      "I will be the streath.\n",
      "\n",
      "POMPEY\n",
      "The werp to the prayer to the hanged to the consure\n",
      "\n",
      "PORTEN\n",
      "A dear the stay to the stay the hanged the wither to the hanger the deed to a preast and the fear,\n",
      "And thou have my life and the stay the destain the stand\n",
      "The king the seever the struch and the sent the father best the sea\n",
      "When the speak the king of the stan the true the sent\n",
      "Which she will the prince to the consurity,\n",
      "And the true the stain and then the fair of him and the seem\n",
      "\n",
      "CORIOLANUS\n",
      "Why, the prove the stay to the proceed the precers\n",
      "The heart thee and the pray the streath,\n",
      "And the father the prince the wife, and the stand the prester the stain,\n",
      "And then the hear of the precent to my lord.\n",
      "\n",
      "COMINIUS\n",
      "Why, the server the stard the father and the fear to the hings\n",
      "And the prove the winged to the heart and the from the will to the heart\n",
      "And then the stard the trie the seen the see\n",
      "The envery to the precent to the farther\n",
      "The see the present the father the wil\n"
     ]
    }
   ],
   "source": [
    "print(model.generate(2048))"
   ]
  }
 ],
 "metadata": {
  "kernelspec": {
   "display_name": "Python 3",
   "language": "python",
   "name": "python3"
  },
  "language_info": {
   "codemirror_mode": {
    "name": "ipython",
    "version": 3
   },
   "file_extension": ".py",
   "mimetype": "text/x-python",
   "name": "python",
   "nbconvert_exporter": "python",
   "pygments_lexer": "ipython3",
   "version": "3.6.3"
  }
 },
 "nbformat": 4,
 "nbformat_minor": 2
}
