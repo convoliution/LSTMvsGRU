{
 "cells": [
  {
   "cell_type": "markdown",
   "metadata": {},
   "source": [
    "# Imports"
   ]
  },
  {
   "cell_type": "code",
   "execution_count": 1,
   "metadata": {},
   "outputs": [],
   "source": [
    "import numpy as np\n",
    "\n",
    "import matplotlib.pyplot as plt\n",
    "\n",
    "import torch\n",
    "import torch.nn as nn\n",
    "import torch.optim as optim\n",
    "\n",
    "import os"
   ]
  },
  {
   "cell_type": "code",
   "execution_count": 2,
   "metadata": {},
   "outputs": [],
   "source": [
    "import models\n",
    "import utils"
   ]
  },
  {
   "cell_type": "markdown",
   "metadata": {},
   "source": [
    "# GPU"
   ]
  },
  {
   "cell_type": "code",
   "execution_count": 3,
   "metadata": {},
   "outputs": [
    {
     "name": "stdout",
     "output_type": "stream",
     "text": [
      "1\n"
     ]
    }
   ],
   "source": [
    "os.environ['CUDA_DEVICE_ORDER'] = 'PCI_BUS_ID'\n",
    "os.environ['CUDA_VISIBLE_DEVICES'] = '5'\n",
    "print(torch.cuda.device_count())"
   ]
  },
  {
   "cell_type": "markdown",
   "metadata": {},
   "source": [
    "# Data"
   ]
  },
  {
   "cell_type": "code",
   "execution_count": 4,
   "metadata": {},
   "outputs": [],
   "source": [
    "shakespeare = utils.read_file(\"data/shakespeare.txt\")"
   ]
  },
  {
   "cell_type": "markdown",
   "metadata": {},
   "source": [
    "# Model"
   ]
  },
  {
   "cell_type": "code",
   "execution_count": 5,
   "metadata": {},
   "outputs": [],
   "source": [
    "seq_len = 128\n",
    "hidden_size = 512\n",
    "learning_rate = 1e-3\n",
    "num_epochs = 128"
   ]
  },
  {
   "cell_type": "code",
   "execution_count": 6,
   "metadata": {},
   "outputs": [],
   "source": [
    "model = models.LSTM(utils.num_letters, hidden_size, utils.num_letters)\n",
    "criterion = nn.NLLLoss()\n",
    "optimizer = optim.Adam(model.parameters(), lr=learning_rate)"
   ]
  },
  {
   "cell_type": "code",
   "execution_count": 7,
   "metadata": {
    "scrolled": false
   },
   "outputs": [
    {
     "name": "stdout",
     "output_type": "stream",
     "text": [
      "Epoch 1 loss: 3.3830064833164215, 1 minute(s) 15 second(s) elapsed\n",
      "Epoch 2 loss: 3.3109117336571217, 2 minute(s) 21 second(s) elapsed\n",
      "Epoch 3 loss: 3.2645822651684284, 3 minute(s) 23 second(s) elapsed\n",
      "Epoch 4 loss: 3.064938008785248, 4 minute(s) 27 second(s) elapsed\n",
      "Epoch 5 loss: 2.871715184301138, 5 minute(s) 34 second(s) elapsed\n",
      "Epoch 6 loss: 2.71698285266757, 6 minute(s) 41 second(s) elapsed\n",
      "Epoch 7 loss: 2.593887619674206, 7 minute(s) 46 second(s) elapsed\n",
      "Epoch 8 loss: 2.5667917504906654, 8 minute(s) 48 second(s) elapsed\n",
      "Epoch 9 loss: 2.5207583755254745, 9 minute(s) 51 second(s) elapsed\n",
      "Epoch 10 loss: 2.4564723670482635, 10 minute(s) 53 second(s) elapsed\n",
      "Epoch 11 loss: 2.450754050165415, 11 minute(s) 55 second(s) elapsed\n",
      "Epoch 12 loss: 2.430330276489258, 12 minute(s) 59 second(s) elapsed\n",
      "Epoch 13 loss: 2.399192076176405, 14 minute(s) 0 second(s) elapsed\n",
      "Epoch 14 loss: 2.353893928229809, 15 minute(s) 3 second(s) elapsed\n",
      "Epoch 15 loss: 2.3501561656594276, 16 minute(s) 7 second(s) elapsed\n",
      "Epoch 16 loss: 2.3212245739996433, 17 minute(s) 11 second(s) elapsed\n",
      "Epoch 17 loss: 2.303508698940277, 18 minute(s) 16 second(s) elapsed\n",
      "Epoch 18 loss: 2.2860480062663555, 19 minute(s) 20 second(s) elapsed\n",
      "Epoch 19 loss: 2.2572898752987385, 20 minute(s) 26 second(s) elapsed\n",
      "Epoch 20 loss: 2.2392426431179047, 21 minute(s) 26 second(s) elapsed\n",
      "Epoch 21 loss: 2.2290570493787527, 22 minute(s) 31 second(s) elapsed\n",
      "Epoch 22 loss: 2.23508039675653, 23 minute(s) 34 second(s) elapsed\n",
      "Epoch 23 loss: 2.2235845550894737, 24 minute(s) 35 second(s) elapsed\n",
      "Epoch 24 loss: 2.178768517449498, 25 minute(s) 41 second(s) elapsed\n",
      "Epoch 25 loss: 2.162850346416235, 26 minute(s) 45 second(s) elapsed\n",
      "Epoch 26 loss: 2.17444359511137, 27 minute(s) 53 second(s) elapsed\n",
      "Epoch 27 loss: 2.140474859625101, 28 minute(s) 57 second(s) elapsed\n",
      "Epoch 28 loss: 2.1596569530665874, 30 minute(s) 5 second(s) elapsed\n",
      "Epoch 29 loss: 2.115099882707, 31 minute(s) 7 second(s) elapsed\n",
      "Epoch 30 loss: 2.1324725691229105, 32 minute(s) 10 second(s) elapsed\n",
      "Epoch 31 loss: 2.072097234427929, 33 minute(s) 12 second(s) elapsed\n",
      "Epoch 32 loss: 2.0739207826554775, 34 minute(s) 14 second(s) elapsed\n",
      "Epoch 33 loss: 2.0697772707790136, 35 minute(s) 16 second(s) elapsed\n",
      "Epoch 34 loss: 2.0536616165190935, 36 minute(s) 21 second(s) elapsed\n",
      "Epoch 35 loss: 2.035423757508397, 37 minute(s) 25 second(s) elapsed\n",
      "Epoch 36 loss: 2.0415537878870964, 38 minute(s) 32 second(s) elapsed\n",
      "Epoch 37 loss: 2.083428906276822, 39 minute(s) 34 second(s) elapsed\n",
      "Epoch 38 loss: 1.9939665328711271, 40 minute(s) 36 second(s) elapsed\n",
      "Epoch 39 loss: 2.0392188765108585, 41 minute(s) 39 second(s) elapsed\n",
      "Epoch 40 loss: 2.0137709006667137, 42 minute(s) 43 second(s) elapsed\n",
      "Epoch 41 loss: 2.025974625721574, 43 minute(s) 46 second(s) elapsed\n",
      "Epoch 42 loss: 1.9920238964259624, 44 minute(s) 47 second(s) elapsed\n",
      "Epoch 43 loss: 2.0061580520123243, 45 minute(s) 52 second(s) elapsed\n",
      "Epoch 44 loss: 1.9860665183514357, 46 minute(s) 59 second(s) elapsed\n",
      "Epoch 45 loss: 2.0085905455052853, 48 minute(s) 2 second(s) elapsed\n",
      "Epoch 46 loss: 1.9815037604421377, 49 minute(s) 5 second(s) elapsed\n",
      "Epoch 47 loss: 1.9493756871670485, 50 minute(s) 8 second(s) elapsed\n",
      "Epoch 48 loss: 1.9173085633665323, 51 minute(s) 12 second(s) elapsed\n",
      "Epoch 49 loss: 1.9525853265076876, 52 minute(s) 15 second(s) elapsed\n",
      "Epoch 50 loss: 1.932834954932332, 53 minute(s) 18 second(s) elapsed\n",
      "Epoch 51 loss: 1.8976915013045073, 54 minute(s) 21 second(s) elapsed\n",
      "Epoch 52 loss: 1.9251226335763931, 55 minute(s) 23 second(s) elapsed\n",
      "Epoch 53 loss: 1.9271175544708967, 56 minute(s) 30 second(s) elapsed\n",
      "Epoch 54 loss: 1.9340938609093428, 57 minute(s) 35 second(s) elapsed\n",
      "Epoch 55 loss: 1.8942979574203491, 58 minute(s) 39 second(s) elapsed\n",
      "Epoch 56 loss: 1.9139588549733162, 59 minute(s) 46 second(s) elapsed\n",
      "Epoch 57 loss: 1.8918577414005995, 60 minute(s) 52 second(s) elapsed\n",
      "Epoch 58 loss: 1.8798614721745253, 61 minute(s) 54 second(s) elapsed\n",
      "Epoch 59 loss: 1.861081849783659, 62 minute(s) 57 second(s) elapsed\n",
      "Epoch 60 loss: 1.893781367689371, 64 minute(s) 0 second(s) elapsed\n",
      "Epoch 61 loss: 1.8804621826857328, 65 minute(s) 5 second(s) elapsed\n",
      "Epoch 62 loss: 1.8717591427266598, 66 minute(s) 8 second(s) elapsed\n",
      "Epoch 63 loss: 1.8703645057976246, 67 minute(s) 13 second(s) elapsed\n",
      "Epoch 64 loss: 1.8799082059413195, 68 minute(s) 21 second(s) elapsed\n",
      "Epoch 65 loss: 1.8595927450805902, 69 minute(s) 27 second(s) elapsed\n",
      "Epoch 66 loss: 1.8277821205556393, 70 minute(s) 29 second(s) elapsed\n",
      "Epoch 67 loss: 1.8893683142960072, 71 minute(s) 30 second(s) elapsed\n",
      "Epoch 68 loss: 1.8233336713165045, 72 minute(s) 33 second(s) elapsed\n",
      "Epoch 69 loss: 1.8613147158175707, 73 minute(s) 35 second(s) elapsed\n",
      "Epoch 70 loss: 1.834447344765067, 74 minute(s) 36 second(s) elapsed\n",
      "Epoch 71 loss: 1.8592870347201824, 75 minute(s) 40 second(s) elapsed\n",
      "Epoch 72 loss: 1.8418641202151775, 76 minute(s) 46 second(s) elapsed\n",
      "Epoch 73 loss: 1.8248899728059769, 77 minute(s) 50 second(s) elapsed\n",
      "Epoch 74 loss: 1.8163970820605755, 78 minute(s) 53 second(s) elapsed\n",
      "Epoch 75 loss: 1.800000824034214, 79 minute(s) 58 second(s) elapsed\n",
      "Epoch 76 loss: 1.8219464365392923, 81 minute(s) 0 second(s) elapsed\n",
      "Epoch 77 loss: 1.8003816865384579, 82 minute(s) 4 second(s) elapsed\n",
      "Epoch 78 loss: 1.8171940334141254, 83 minute(s) 6 second(s) elapsed\n",
      "Epoch 79 loss: 1.7993349060416222, 84 minute(s) 10 second(s) elapsed\n",
      "Epoch 80 loss: 1.8117350731045008, 85 minute(s) 14 second(s) elapsed\n",
      "Epoch 81 loss: 1.7748886998742819, 86 minute(s) 16 second(s) elapsed\n",
      "Epoch 82 loss: 1.7953958585858345, 87 minute(s) 21 second(s) elapsed\n",
      "Epoch 83 loss: 1.791728364303708, 88 minute(s) 26 second(s) elapsed\n",
      "Epoch 84 loss: 1.8109768442809582, 89 minute(s) 33 second(s) elapsed\n",
      "Epoch 85 loss: 1.7596473190933466, 90 minute(s) 39 second(s) elapsed\n",
      "Epoch 86 loss: 1.8184032812714577, 91 minute(s) 44 second(s) elapsed\n",
      "Epoch 87 loss: 1.8127709962427616, 92 minute(s) 48 second(s) elapsed\n",
      "Epoch 88 loss: 1.8016323074698448, 93 minute(s) 51 second(s) elapsed\n",
      "Epoch 89 loss: 1.7472659945487976, 94 minute(s) 54 second(s) elapsed\n",
      "Epoch 90 loss: 1.7468998972326517, 95 minute(s) 57 second(s) elapsed\n",
      "Epoch 91 loss: 1.793220503255725, 97 minute(s) 0 second(s) elapsed\n",
      "Epoch 92 loss: 1.78495554625988, 98 minute(s) 8 second(s) elapsed\n",
      "Epoch 93 loss: 1.7516956813633442, 99 minute(s) 13 second(s) elapsed\n",
      "Epoch 94 loss: 1.7527285143733025, 100 minute(s) 19 second(s) elapsed\n",
      "Epoch 95 loss: 1.7723297327756882, 101 minute(s) 24 second(s) elapsed\n",
      "Epoch 96 loss: 1.7534625995904207, 102 minute(s) 27 second(s) elapsed\n",
      "Epoch 97 loss: 1.7972980104386806, 103 minute(s) 33 second(s) elapsed\n",
      "Epoch 98 loss: 1.7999184876680374, 104 minute(s) 37 second(s) elapsed\n",
      "Epoch 99 loss: 1.7324514370411634, 105 minute(s) 39 second(s) elapsed\n",
      "Epoch 100 loss: 1.8009208850562572, 106 minute(s) 42 second(s) elapsed\n",
      "Epoch 101 loss: 1.7249566297978163, 107 minute(s) 44 second(s) elapsed\n",
      "Epoch 102 loss: 1.78606884367764, 108 minute(s) 47 second(s) elapsed\n",
      "Epoch 103 loss: 1.7589184008538723, 109 minute(s) 50 second(s) elapsed\n",
      "Epoch 104 loss: 1.715307591482997, 110 minute(s) 54 second(s) elapsed\n",
      "Epoch 105 loss: 1.7489369809627533, 111 minute(s) 56 second(s) elapsed\n",
      "Epoch 106 loss: 1.7593323532491922, 112 minute(s) 58 second(s) elapsed\n",
      "Epoch 107 loss: 1.7500249743461609, 114 minute(s) 3 second(s) elapsed\n",
      "Epoch 108 loss: 1.7261126916855574, 115 minute(s) 6 second(s) elapsed\n",
      "Epoch 109 loss: 1.7229051981121302, 116 minute(s) 8 second(s) elapsed\n",
      "Epoch 110 loss: 1.7414427548646927, 117 minute(s) 13 second(s) elapsed\n",
      "Epoch 111 loss: 1.7140548136085272, 118 minute(s) 19 second(s) elapsed\n",
      "Epoch 112 loss: 1.7337101213634014, 119 minute(s) 24 second(s) elapsed\n",
      "Epoch 113 loss: 1.7457531355321407, 120 minute(s) 29 second(s) elapsed\n",
      "Epoch 114 loss: 1.7100740149617195, 121 minute(s) 33 second(s) elapsed\n",
      "Epoch 115 loss: 1.7201001308858395, 122 minute(s) 34 second(s) elapsed\n",
      "Epoch 116 loss: 1.714360162615776, 123 minute(s) 35 second(s) elapsed\n",
      "Epoch 117 loss: 1.6774668078869581, 124 minute(s) 36 second(s) elapsed\n",
      "Epoch 118 loss: 1.726720193400979, 125 minute(s) 37 second(s) elapsed\n",
      "Epoch 119 loss: 1.7407923731952906, 126 minute(s) 39 second(s) elapsed\n"
     ]
    },
    {
     "name": "stdout",
     "output_type": "stream",
     "text": [
      "Epoch 120 loss: 1.690624836832285, 127 minute(s) 40 second(s) elapsed\n",
      "Epoch 121 loss: 1.6981533989310265, 128 minute(s) 42 second(s) elapsed\n",
      "Epoch 122 loss: 1.7337766718119383, 129 minute(s) 45 second(s) elapsed\n",
      "Epoch 123 loss: 1.724177997559309, 130 minute(s) 47 second(s) elapsed\n",
      "Epoch 124 loss: 1.7307563666254282, 131 minute(s) 50 second(s) elapsed\n",
      "Epoch 125 loss: 1.709568103775382, 132 minute(s) 52 second(s) elapsed\n",
      "Epoch 126 loss: 1.707490598782897, 133 minute(s) 53 second(s) elapsed\n",
      "Epoch 127 loss: 1.7209056820720434, 134 minute(s) 55 second(s) elapsed\n",
      "Epoch 128 loss: 1.7150397282093763, 135 minute(s) 49 second(s) elapsed\n"
     ]
    }
   ],
   "source": [
    "model.train(shakespeare, seq_len, criterion, optimizer, num_epochs=num_epochs)"
   ]
  },
  {
   "cell_type": "code",
   "execution_count": 11,
   "metadata": {},
   "outputs": [],
   "source": [
    "torch.save(model.state_dict(), \"results/trained-models/GRU-Shakespeare\")\n",
    "np.save(\"results/loss-histories/GRU-Shakespeare\", model.loss_history)"
   ]
  },
  {
   "cell_type": "code",
   "execution_count": 8,
   "metadata": {},
   "outputs": [
    {
     "data": {
      "image/png": "[encoded data removed]",
      "text/plain": [
       "<matplotlib.figure.Figure at 0x7f9186646390>"
      ]
     },
     "metadata": {},
     "output_type": "display_data"
    }
   ],
   "source": [
    "plt.plot(model.loss_history)\n",
    "plt.title(\"Loss History\")\n",
    "plt.ylabel(\"Loss\")\n",
    "plt.xlabel(\"Epoch\")\n",
    "plt.show()"
   ]
  },
  {
   "cell_type": "code",
   "execution_count": 13,
   "metadata": {},
   "outputs": [
    {
     "name": "stdout",
     "output_type": "stream",
     "text": [
      "T and the than the such a strain\n",
      "\n",
      "POLIXENES\n",
      "Why, see the stend the sean the streath the man the setter the can the hand\n",
      "That speak the child of the swares the strance to the sent the sunce the words\n",
      "The sun the strang thee to my sund to me\n",
      "\n",
      "CORIOLANUS\n",
      "Then the served the hand to the lost the the servest that the struest,\n",
      "And the sune the honest the sent to me the sent the were\n",
      "\n",
      "LUCIO\n",
      "The seake the such and the hard and the sun the sent the stort\n",
      "To see the have to me to my heart the streat to the string to the sent\n",
      "The was a her the heart to make the sere thee\n",
      "\n",
      "CLAUMES\n",
      "Marry, that we will be some the state the streators the coust of the swords\n",
      "To see the strust of the sent to the threath.\n",
      "\n",
      "PETRUCHIO\n",
      "Why shall be so my lord, and she strink to the themsed\n",
      "\n",
      "PALUSNES\n",
      "Why should be the string to the sun to the strink\n",
      "\n",
      "KING RICHARD II\n",
      "And were the sun and stand the suppess of the sent\n",
      "To make the haste the lord to my had the stands of the destrows to me\n",
      "\n",
      "MENCATIS\n",
      "The worst thou hast the was the sure the such and the such a word\n",
      "The strant the harther the sent the dune the sent to the sunter to the doness to my lord.\n",
      "\n",
      "DUCHESS OF AUMERLE\n",
      "When I shall not the the sent the trown,\n",
      "And then the the seen to the stread to may speak to the will be state\n",
      "\n",
      "KING RICHARD II\n",
      "Why, sir, I will she would thou hast the hands,\n",
      "And the stand the strength of the done the canst the there,\n",
      "And the sent the rest and the sentle with thee\n",
      "The strong the man the sent thee the streng to me\n",
      "In the worse the words the sure to the hast the seath.\n",
      "\n",
      "COMINIUS\n",
      "What hast the many tood the than the send to the hast the streath,\n",
      "And the world the seed thee to the streath to my lord.\n",
      "\n",
      "CLARENCE\n",
      "What I will not see the sent the streath the hand the sent to see and the hand\n",
      "The streed the days the stranger the statter to my death,\n",
      "And thou hast the words the strave the heart to the grown\n",
      "The strutter the with the strong the that the king the streed\n",
      "And the grace to strant the seath to me the suck to the see\n",
      "\n",
      "MIRANDAN\n",
      "I will see the will the streath the sent and\n"
     ]
    }
   ],
   "source": [
    "print(model.generate(2048))"
   ]
  }
 ],
 "metadata": {
  "kernelspec": {
   "display_name": "Python 3",
   "language": "python",
   "name": "python3"
  },
  "language_info": {
   "codemirror_mode": {
    "name": "ipython",
    "version": 3
   },
   "file_extension": ".py",
   "mimetype": "text/x-python",
   "name": "python",
   "nbconvert_exporter": "python",
   "pygments_lexer": "ipython3",
   "version": "3.6.3"
  }
 },
 "nbformat": 4,
 "nbformat_minor": 2
}
