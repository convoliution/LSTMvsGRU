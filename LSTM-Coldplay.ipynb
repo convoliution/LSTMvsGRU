{
 "cells": [
  {
   "cell_type": "markdown",
   "metadata": {},
   "source": [
    "# Imports"
   ]
  },
  {
   "cell_type": "code",
   "execution_count": 1,
   "metadata": {},
   "outputs": [],
   "source": [
    "import numpy as np\n",
    "\n",
    "import matplotlib.pyplot as plt\n",
    "\n",
    "import torch\n",
    "import torch.nn as nn\n",
    "import torch.optim as optim\n",
    "\n",
    "import os"
   ]
  },
  {
   "cell_type": "code",
   "execution_count": 2,
   "metadata": {},
   "outputs": [],
   "source": [
    "import models\n",
    "import utils"
   ]
  },
  {
   "cell_type": "markdown",
   "metadata": {},
   "source": [
    "# GPU"
   ]
  },
  {
   "cell_type": "code",
   "execution_count": 3,
   "metadata": {},
   "outputs": [
    {
     "name": "stdout",
     "output_type": "stream",
     "text": [
      "1\n"
     ]
    }
   ],
   "source": [
    "os.environ['CUDA_DEVICE_ORDER'] = 'PCI_BUS_ID'\n",
    "os.environ['CUDA_VISIBLE_DEVICES'] = '4'\n",
    "print(torch.cuda.device_count())"
   ]
  },
  {
   "cell_type": "markdown",
   "metadata": {},
   "source": [
    "# Data"
   ]
  },
  {
   "cell_type": "code",
   "execution_count": 4,
   "metadata": {},
   "outputs": [],
   "source": [
    "coldplay = utils.read_file(\"data/coldplay.txt\")"
   ]
  },
  {
   "cell_type": "markdown",
   "metadata": {},
   "source": [
    "# Model"
   ]
  },
  {
   "cell_type": "code",
   "execution_count": 5,
   "metadata": {},
   "outputs": [],
   "source": [
    "seq_len = 128\n",
    "hidden_size = 512\n",
    "learning_rate = 1e-3\n",
    "num_epochs = 128"
   ]
  },
  {
   "cell_type": "code",
   "execution_count": 6,
   "metadata": {},
   "outputs": [],
   "source": [
    "model = models.LSTM(utils.num_letters, hidden_size, utils.num_letters)\n",
    "criterion = nn.NLLLoss()\n",
    "optimizer = optim.Adam(model.parameters(), lr=learning_rate)"
   ]
  },
  {
   "cell_type": "code",
   "execution_count": 7,
   "metadata": {
    "scrolled": false
   },
   "outputs": [
    {
     "name": "stdout",
     "output_type": "stream",
     "text": [
      "Epoch 1 loss: 3.3004473000764847, 1 minute(s) 16 second(s) elapsed\n",
      "Epoch 2 loss: 3.151957180351019, 2 minute(s) 20 second(s) elapsed\n",
      "Epoch 3 loss: 3.1427246034145355, 3 minute(s) 22 second(s) elapsed\n",
      "Epoch 4 loss: 3.0160950496792793, 4 minute(s) 26 second(s) elapsed\n",
      "Epoch 5 loss: 2.827669847756624, 5 minute(s) 34 second(s) elapsed\n",
      "Epoch 6 loss: 2.6171288155019283, 6 minute(s) 42 second(s) elapsed\n",
      "Epoch 7 loss: 2.5195595547556877, 7 minute(s) 44 second(s) elapsed\n",
      "Epoch 8 loss: 2.454307723790407, 8 minute(s) 50 second(s) elapsed\n",
      "Epoch 9 loss: 2.400856241583824, 9 minute(s) 51 second(s) elapsed\n",
      "Epoch 10 loss: 2.311233513057232, 10 minute(s) 55 second(s) elapsed\n",
      "Epoch 11 loss: 2.250518813729286, 11 minute(s) 56 second(s) elapsed\n",
      "Epoch 12 loss: 2.2093729116022587, 12 minute(s) 57 second(s) elapsed\n",
      "Epoch 13 loss: 2.1901248935610056, 13 minute(s) 59 second(s) elapsed\n",
      "Epoch 14 loss: 2.1552391555160284, 15 minute(s) 6 second(s) elapsed\n",
      "Epoch 15 loss: 2.125521684065461, 16 minute(s) 11 second(s) elapsed\n",
      "Epoch 16 loss: 2.115265343338251, 17 minute(s) 18 second(s) elapsed\n",
      "Epoch 17 loss: 2.047538537532091, 18 minute(s) 22 second(s) elapsed\n",
      "Epoch 18 loss: 2.0977779738605022, 19 minute(s) 29 second(s) elapsed\n",
      "Epoch 19 loss: 2.0090780910104513, 20 minute(s) 34 second(s) elapsed\n",
      "Epoch 20 loss: 1.9552625343203545, 21 minute(s) 39 second(s) elapsed\n",
      "Epoch 21 loss: 1.9505980089306831, 22 minute(s) 41 second(s) elapsed\n",
      "Epoch 22 loss: 1.9375094044953585, 23 minute(s) 42 second(s) elapsed\n",
      "Epoch 23 loss: 1.8935356959700584, 24 minute(s) 43 second(s) elapsed\n",
      "Epoch 24 loss: 1.8972364403307438, 25 minute(s) 49 second(s) elapsed\n",
      "Epoch 25 loss: 1.923468317836523, 26 minute(s) 55 second(s) elapsed\n",
      "Epoch 26 loss: 1.863119162619114, 27 minute(s) 58 second(s) elapsed\n",
      "Epoch 27 loss: 1.8549893945455551, 29 minute(s) 3 second(s) elapsed\n",
      "Epoch 28 loss: 1.7887425273656845, 30 minute(s) 9 second(s) elapsed\n",
      "Epoch 29 loss: 1.8104428928345442, 31 minute(s) 15 second(s) elapsed\n",
      "Epoch 30 loss: 1.7445404920727015, 32 minute(s) 19 second(s) elapsed\n",
      "Epoch 31 loss: 1.7972405925393105, 33 minute(s) 21 second(s) elapsed\n",
      "Epoch 32 loss: 1.7695720233023167, 34 minute(s) 24 second(s) elapsed\n",
      "Epoch 33 loss: 1.7163044353947043, 35 minute(s) 28 second(s) elapsed\n",
      "Epoch 34 loss: 1.7254991000518203, 36 minute(s) 30 second(s) elapsed\n",
      "Epoch 35 loss: 1.693094078451395, 37 minute(s) 34 second(s) elapsed\n",
      "Epoch 36 loss: 1.7350856652483344, 38 minute(s) 39 second(s) elapsed\n",
      "Epoch 37 loss: 1.6974730649963021, 39 minute(s) 46 second(s) elapsed\n",
      "Epoch 38 loss: 1.638374749571085, 40 minute(s) 50 second(s) elapsed\n",
      "Epoch 39 loss: 1.6499552391469479, 41 minute(s) 52 second(s) elapsed\n",
      "Epoch 40 loss: 1.5785525226965547, 42 minute(s) 55 second(s) elapsed\n",
      "Epoch 41 loss: 1.6667492436245084, 43 minute(s) 57 second(s) elapsed\n",
      "Epoch 42 loss: 1.6108556995168328, 45 minute(s) 0 second(s) elapsed\n",
      "Epoch 43 loss: 1.6004519648849964, 46 minute(s) 4 second(s) elapsed\n",
      "Epoch 44 loss: 1.5924219964072108, 47 minute(s) 9 second(s) elapsed\n",
      "Epoch 45 loss: 1.5933731431141496, 48 minute(s) 12 second(s) elapsed\n",
      "Epoch 46 loss: 1.5737498616799712, 49 minute(s) 17 second(s) elapsed\n",
      "Epoch 47 loss: 1.5391202177852392, 50 minute(s) 21 second(s) elapsed\n",
      "Epoch 48 loss: 1.6167334448546171, 51 minute(s) 24 second(s) elapsed\n",
      "Epoch 49 loss: 1.568570539355278, 52 minute(s) 25 second(s) elapsed\n",
      "Epoch 50 loss: 1.5679467767477036, 53 minute(s) 27 second(s) elapsed\n",
      "Epoch 51 loss: 1.5663618072867393, 54 minute(s) 29 second(s) elapsed\n",
      "Epoch 52 loss: 1.5585337476804852, 55 minute(s) 36 second(s) elapsed\n",
      "Epoch 53 loss: 1.5223160330206156, 56 minute(s) 44 second(s) elapsed\n",
      "Epoch 54 loss: 1.514845084398985, 57 minute(s) 47 second(s) elapsed\n",
      "Epoch 55 loss: 1.483233816921711, 58 minute(s) 49 second(s) elapsed\n",
      "Epoch 56 loss: 1.4833510257303715, 59 minute(s) 52 second(s) elapsed\n",
      "Epoch 57 loss: 1.4429973047226667, 60 minute(s) 57 second(s) elapsed\n",
      "Epoch 58 loss: 1.492033745162189, 62 minute(s) 1 second(s) elapsed\n",
      "Epoch 59 loss: 1.4894666047766805, 63 minute(s) 2 second(s) elapsed\n",
      "Epoch 60 loss: 1.431429230608046, 64 minute(s) 4 second(s) elapsed\n",
      "Epoch 61 loss: 1.5393164176493883, 65 minute(s) 8 second(s) elapsed\n",
      "Epoch 62 loss: 1.5236174557358027, 66 minute(s) 9 second(s) elapsed\n",
      "Epoch 63 loss: 1.4375433530658484, 67 minute(s) 16 second(s) elapsed\n",
      "Epoch 64 loss: 1.4328467356972396, 68 minute(s) 22 second(s) elapsed\n",
      "Epoch 65 loss: 1.4086468457244337, 69 minute(s) 29 second(s) elapsed\n",
      "Epoch 66 loss: 1.317603842355311, 70 minute(s) 32 second(s) elapsed\n",
      "Epoch 67 loss: 1.3505361913703382, 71 minute(s) 36 second(s) elapsed\n",
      "Epoch 68 loss: 1.3540361411869526, 72 minute(s) 40 second(s) elapsed\n",
      "Epoch 69 loss: 1.3027762360870838, 73 minute(s) 44 second(s) elapsed\n",
      "Epoch 70 loss: 1.4215228343382478, 74 minute(s) 46 second(s) elapsed\n",
      "Epoch 71 loss: 1.4031524891033769, 75 minute(s) 52 second(s) elapsed\n",
      "Epoch 72 loss: 1.382762468419969, 76 minute(s) 58 second(s) elapsed\n",
      "Epoch 73 loss: 1.3475172719918191, 78 minute(s) 5 second(s) elapsed\n",
      "Epoch 74 loss: 1.321016036439687, 79 minute(s) 12 second(s) elapsed\n",
      "Epoch 75 loss: 1.3675225181505084, 80 minute(s) 15 second(s) elapsed\n",
      "Epoch 76 loss: 1.3681775629520416, 81 minute(s) 19 second(s) elapsed\n",
      "Epoch 77 loss: 1.3706362270750105, 82 minute(s) 21 second(s) elapsed\n",
      "Epoch 78 loss: 1.3574493983760476, 83 minute(s) 23 second(s) elapsed\n",
      "Epoch 79 loss: 1.3702061101794243, 84 minute(s) 25 second(s) elapsed\n",
      "Epoch 80 loss: 1.3275254159234464, 85 minute(s) 27 second(s) elapsed\n",
      "Epoch 81 loss: 1.3151046875864267, 86 minute(s) 33 second(s) elapsed\n",
      "Epoch 82 loss: 1.297308680601418, 87 minute(s) 38 second(s) elapsed\n",
      "Epoch 83 loss: 1.3172301426529884, 88 minute(s) 42 second(s) elapsed\n",
      "Epoch 84 loss: 1.280577196739614, 89 minute(s) 47 second(s) elapsed\n",
      "Epoch 85 loss: 1.2908445615321398, 90 minute(s) 49 second(s) elapsed\n",
      "Epoch 86 loss: 1.2770804380998015, 91 minute(s) 53 second(s) elapsed\n",
      "Epoch 87 loss: 1.289589149877429, 92 minute(s) 56 second(s) elapsed\n",
      "Epoch 88 loss: 1.261024278588593, 94 minute(s) 0 second(s) elapsed\n",
      "Epoch 89 loss: 1.2254662439227104, 95 minute(s) 2 second(s) elapsed\n",
      "Epoch 90 loss: 1.2389838839881122, 96 minute(s) 6 second(s) elapsed\n",
      "Epoch 91 loss: 1.2848883662372828, 97 minute(s) 8 second(s) elapsed\n",
      "Epoch 92 loss: 1.3087626993656158, 98 minute(s) 14 second(s) elapsed\n",
      "Epoch 93 loss: 1.2184424847364426, 99 minute(s) 17 second(s) elapsed\n",
      "Epoch 94 loss: 1.208118966780603, 100 minute(s) 20 second(s) elapsed\n",
      "Epoch 95 loss: 1.269953082781285, 101 minute(s) 24 second(s) elapsed\n",
      "Epoch 96 loss: 1.194930039346218, 102 minute(s) 31 second(s) elapsed\n",
      "Epoch 97 loss: 1.2654829053208232, 103 minute(s) 33 second(s) elapsed\n",
      "Epoch 98 loss: 1.160768766887486, 104 minute(s) 35 second(s) elapsed\n",
      "Epoch 99 loss: 1.2369261682033539, 105 minute(s) 37 second(s) elapsed\n",
      "Epoch 100 loss: 1.2537440767046064, 106 minute(s) 40 second(s) elapsed\n",
      "Epoch 101 loss: 1.1926288697868586, 107 minute(s) 43 second(s) elapsed\n",
      "Epoch 102 loss: 1.2211959306150675, 108 minute(s) 47 second(s) elapsed\n",
      "Epoch 103 loss: 1.2068713530898094, 109 minute(s) 55 second(s) elapsed\n",
      "Epoch 104 loss: 1.2238454343751073, 110 minute(s) 59 second(s) elapsed\n",
      "Epoch 105 loss: 1.1843252927064896, 112 minute(s) 3 second(s) elapsed\n",
      "Epoch 106 loss: 1.2220408199355006, 113 minute(s) 5 second(s) elapsed\n",
      "Epoch 107 loss: 1.2296152710914612, 114 minute(s) 9 second(s) elapsed\n",
      "Epoch 108 loss: 1.2030071294866502, 115 minute(s) 9 second(s) elapsed\n",
      "Epoch 109 loss: 1.158674436621368, 116 minute(s) 12 second(s) elapsed\n",
      "Epoch 110 loss: 1.1786045259796083, 117 minute(s) 15 second(s) elapsed\n",
      "Epoch 111 loss: 1.1576837990432978, 118 minute(s) 21 second(s) elapsed\n",
      "Epoch 112 loss: 1.1378675904124975, 119 minute(s) 26 second(s) elapsed\n",
      "Epoch 113 loss: 1.1276164446026087, 120 minute(s) 31 second(s) elapsed\n",
      "Epoch 114 loss: 1.117894786875695, 121 minute(s) 35 second(s) elapsed\n",
      "Epoch 115 loss: 1.1136805745773017, 122 minute(s) 38 second(s) elapsed\n",
      "Epoch 116 loss: 1.201178495772183, 123 minute(s) 39 second(s) elapsed\n",
      "Epoch 117 loss: 1.138139528222382, 124 minute(s) 41 second(s) elapsed\n",
      "Epoch 118 loss: 1.1034656651318073, 125 minute(s) 43 second(s) elapsed\n",
      "Epoch 119 loss: 1.096386754885316, 126 minute(s) 44 second(s) elapsed\n"
     ]
    },
    {
     "name": "stdout",
     "output_type": "stream",
     "text": [
      "Epoch 120 loss: 1.1416393551044166, 127 minute(s) 46 second(s) elapsed\n",
      "Epoch 121 loss: 1.1477104355581105, 128 minute(s) 50 second(s) elapsed\n",
      "Epoch 122 loss: 1.0753732742741704, 129 minute(s) 53 second(s) elapsed\n",
      "Epoch 123 loss: 1.0337375204544514, 130 minute(s) 56 second(s) elapsed\n",
      "Epoch 124 loss: 1.110706075327471, 132 minute(s) 1 second(s) elapsed\n",
      "Epoch 125 loss: 1.0984607487916946, 133 minute(s) 4 second(s) elapsed\n",
      "Epoch 126 loss: 1.120080773718655, 134 minute(s) 6 second(s) elapsed\n",
      "Epoch 127 loss: 1.0373962270095944, 134 minute(s) 59 second(s) elapsed\n",
      "Epoch 128 loss: 1.0692623062059283, 135 minute(s) 52 second(s) elapsed\n"
     ]
    }
   ],
   "source": [
    "model.train(coldplay, seq_len, criterion, optimizer, num_epochs=num_epochs)"
   ]
  },
  {
   "cell_type": "code",
   "execution_count": 11,
   "metadata": {},
   "outputs": [],
   "source": [
    "torch.save(model.state_dict(), \"results/trained-models/LSTM-Coldplay\")\n",
    "np.save(\"results/loss-histories/LSTM-Coldplay\", model.loss_history)"
   ]
  },
  {
   "cell_type": "code",
   "execution_count": 8,
   "metadata": {},
   "outputs": [
    {
     "data": {
      "image/png": "[encoded data removed]",
      "text/plain": [
       "<matplotlib.figure.Figure at 0x7faaa4d54c50>"
      ]
     },
     "metadata": {},
     "output_type": "display_data"
    }
   ],
   "source": [
    "plt.plot(model.loss_history)\n",
    "plt.title(\"Loss History\")\n",
    "plt.ylabel(\"Loss\")\n",
    "plt.xlabel(\"Epoch\")\n",
    "plt.show()"
   ]
  },
  {
   "cell_type": "code",
   "execution_count": null,
   "metadata": {},
   "outputs": [],
   "source": [
    "print(model.generate(2048))"
   ]
  }
 ],
 "metadata": {
  "kernelspec": {
   "display_name": "Python 3",
   "language": "python",
   "name": "python3"
  },
  "language_info": {
   "codemirror_mode": {
    "name": "ipython",
    "version": 3
   },
   "file_extension": ".py",
   "mimetype": "text/x-python",
   "name": "python",
   "nbconvert_exporter": "python",
   "pygments_lexer": "ipython3",
   "version": "3.6.3"
  }
 },
 "nbformat": 4,
 "nbformat_minor": 2
}
