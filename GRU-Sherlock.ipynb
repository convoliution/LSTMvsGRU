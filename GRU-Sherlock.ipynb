{
 "cells": [
  {
   "cell_type": "markdown",
   "metadata": {},
   "source": [
    "# Imports"
   ]
  },
  {
   "cell_type": "code",
   "execution_count": 1,
   "metadata": {},
   "outputs": [],
   "source": [
    "import numpy as np\n",
    "\n",
    "import matplotlib.pyplot as plt\n",
    "\n",
    "import torch\n",
    "import torch.nn as nn\n",
    "import torch.optim as optim\n",
    "\n",
    "import os"
   ]
  },
  {
   "cell_type": "code",
   "execution_count": 2,
   "metadata": {},
   "outputs": [],
   "source": [
    "import models\n",
    "import utils"
   ]
  },
  {
   "cell_type": "markdown",
   "metadata": {},
   "source": [
    "# GPU"
   ]
  },
  {
   "cell_type": "code",
   "execution_count": 3,
   "metadata": {},
   "outputs": [
    {
     "name": "stdout",
     "output_type": "stream",
     "text": [
      "1\n"
     ]
    }
   ],
   "source": [
    "os.environ['CUDA_DEVICE_ORDER'] = 'PCI_BUS_ID'\n",
    "os.environ['CUDA_VISIBLE_DEVICES'] = '5'\n",
    "print(torch.cuda.device_count())"
   ]
  },
  {
   "cell_type": "markdown",
   "metadata": {},
   "source": [
    "# Data"
   ]
  },
  {
   "cell_type": "code",
   "execution_count": 4,
   "metadata": {},
   "outputs": [],
   "source": [
    "sherlock = utils.read_file(\"data/sherlock.txt\")"
   ]
  },
  {
   "cell_type": "markdown",
   "metadata": {},
   "source": [
    "# Model"
   ]
  },
  {
   "cell_type": "code",
   "execution_count": 5,
   "metadata": {},
   "outputs": [],
   "source": [
    "seq_len = 128\n",
    "hidden_size = 512\n",
    "learning_rate = 1e-3\n",
    "num_epochs = 128"
   ]
  },
  {
   "cell_type": "code",
   "execution_count": 6,
   "metadata": {},
   "outputs": [],
   "source": [
    "model = models.LSTM(utils.num_letters, hidden_size, utils.num_letters)\n",
    "criterion = nn.NLLLoss()\n",
    "optimizer = optim.Adam(model.parameters(), lr=learning_rate)"
   ]
  },
  {
   "cell_type": "code",
   "execution_count": 7,
   "metadata": {
    "scrolled": false
   },
   "outputs": [
    {
     "name": "stdout",
     "output_type": "stream",
     "text": [
      "Epoch 1 loss: 3.1106306836009026, 1 minute(s) 15 second(s) elapsed\n",
      "Epoch 2 loss: 2.9698414020240307, 2 minute(s) 19 second(s) elapsed\n",
      "Epoch 3 loss: 2.95297434926033, 3 minute(s) 21 second(s) elapsed\n",
      "Epoch 4 loss: 2.882801592350006, 4 minute(s) 23 second(s) elapsed\n",
      "Epoch 5 loss: 2.6912631914019585, 5 minute(s) 28 second(s) elapsed\n",
      "Epoch 6 loss: 2.49387039616704, 6 minute(s) 32 second(s) elapsed\n",
      "Epoch 7 loss: 2.385923583060503, 7 minute(s) 36 second(s) elapsed\n",
      "Epoch 8 loss: 2.37623518332839, 8 minute(s) 38 second(s) elapsed\n",
      "Epoch 9 loss: 2.268161863088608, 9 minute(s) 38 second(s) elapsed\n",
      "Epoch 10 loss: 2.226926503702998, 10 minute(s) 40 second(s) elapsed\n",
      "Epoch 11 loss: 2.206805633381009, 11 minute(s) 42 second(s) elapsed\n",
      "Epoch 12 loss: 2.2192107886075974, 12 minute(s) 44 second(s) elapsed\n",
      "Epoch 13 loss: 2.136127984151244, 13 minute(s) 44 second(s) elapsed\n",
      "Epoch 14 loss: 2.1335353329777718, 14 minute(s) 48 second(s) elapsed\n",
      "Epoch 15 loss: 2.1546441800892353, 15 minute(s) 51 second(s) elapsed\n",
      "Epoch 16 loss: 2.116441370919347, 16 minute(s) 54 second(s) elapsed\n",
      "Epoch 17 loss: 2.093261456117034, 17 minute(s) 58 second(s) elapsed\n",
      "Epoch 18 loss: 2.099936271086335, 19 minute(s) 3 second(s) elapsed\n",
      "Epoch 19 loss: 2.0541222281754017, 20 minute(s) 7 second(s) elapsed\n",
      "Epoch 20 loss: 2.0523568112403154, 21 minute(s) 7 second(s) elapsed\n",
      "Epoch 21 loss: 2.0558576434850693, 22 minute(s) 8 second(s) elapsed\n",
      "Epoch 22 loss: 2.0274956692010164, 23 minute(s) 9 second(s) elapsed\n",
      "Epoch 23 loss: 2.007380036637187, 24 minute(s) 12 second(s) elapsed\n",
      "Epoch 24 loss: 2.006325513124466, 25 minute(s) 14 second(s) elapsed\n",
      "Epoch 25 loss: 1.9716338440775871, 26 minute(s) 16 second(s) elapsed\n",
      "Epoch 26 loss: 1.958183940500021, 27 minute(s) 21 second(s) elapsed\n",
      "Epoch 27 loss: 1.9395583923906088, 28 minute(s) 26 second(s) elapsed\n",
      "Epoch 28 loss: 1.9229585826396942, 29 minute(s) 32 second(s) elapsed\n",
      "Epoch 29 loss: 1.958848524838686, 30 minute(s) 38 second(s) elapsed\n",
      "Epoch 30 loss: 1.9337966162711382, 31 minute(s) 41 second(s) elapsed\n",
      "Epoch 31 loss: 1.904779912903905, 32 minute(s) 43 second(s) elapsed\n",
      "Epoch 32 loss: 1.917414866387844, 33 minute(s) 45 second(s) elapsed\n",
      "Epoch 33 loss: 1.8976771626621485, 34 minute(s) 47 second(s) elapsed\n",
      "Epoch 34 loss: 1.9018789269030094, 35 minute(s) 50 second(s) elapsed\n",
      "Epoch 35 loss: 1.8609369806945324, 36 minute(s) 53 second(s) elapsed\n",
      "Epoch 36 loss: 1.90175124630332, 37 minute(s) 58 second(s) elapsed\n",
      "Epoch 37 loss: 1.8635827004909515, 39 minute(s) 3 second(s) elapsed\n",
      "Epoch 38 loss: 1.828402403742075, 40 minute(s) 4 second(s) elapsed\n",
      "Epoch 39 loss: 1.8617027830332518, 41 minute(s) 6 second(s) elapsed\n",
      "Epoch 40 loss: 1.8143342342227697, 42 minute(s) 9 second(s) elapsed\n",
      "Epoch 41 loss: 1.841667665168643, 43 minute(s) 12 second(s) elapsed\n",
      "Epoch 42 loss: 1.8073801659047604, 44 minute(s) 12 second(s) elapsed\n",
      "Epoch 43 loss: 1.8245518952608109, 45 minute(s) 13 second(s) elapsed\n",
      "Epoch 44 loss: 1.8186568319797516, 46 minute(s) 17 second(s) elapsed\n",
      "Epoch 45 loss: 1.8084532469511032, 47 minute(s) 22 second(s) elapsed\n",
      "Epoch 46 loss: 1.779281472787261, 48 minute(s) 28 second(s) elapsed\n",
      "Epoch 47 loss: 1.7830757517367601, 49 minute(s) 30 second(s) elapsed\n",
      "Epoch 48 loss: 1.7914028987288475, 50 minute(s) 31 second(s) elapsed\n",
      "Epoch 49 loss: 1.7575932070612907, 51 minute(s) 34 second(s) elapsed\n",
      "Epoch 50 loss: 1.7330061588436365, 52 minute(s) 37 second(s) elapsed\n",
      "Epoch 51 loss: 1.7388848904520273, 53 minute(s) 38 second(s) elapsed\n",
      "Epoch 52 loss: 1.787692440673709, 54 minute(s) 40 second(s) elapsed\n",
      "Epoch 53 loss: 1.7256004754453897, 55 minute(s) 44 second(s) elapsed\n",
      "Epoch 54 loss: 1.733758656308055, 56 minute(s) 49 second(s) elapsed\n",
      "Epoch 55 loss: 1.7403412275016308, 57 minute(s) 52 second(s) elapsed\n",
      "Epoch 56 loss: 1.7233944330364466, 58 minute(s) 58 second(s) elapsed\n",
      "Epoch 57 loss: 1.7447179164737463, 60 minute(s) 3 second(s) elapsed\n",
      "Epoch 58 loss: 1.7626024186611176, 61 minute(s) 10 second(s) elapsed\n",
      "Epoch 59 loss: 1.7310505155473948, 62 minute(s) 12 second(s) elapsed\n",
      "Epoch 60 loss: 1.714309472590685, 63 minute(s) 14 second(s) elapsed\n",
      "Epoch 61 loss: 1.701613424345851, 64 minute(s) 16 second(s) elapsed\n",
      "Epoch 62 loss: 1.671340687200427, 65 minute(s) 19 second(s) elapsed\n",
      "Epoch 63 loss: 1.7368916105479002, 66 minute(s) 22 second(s) elapsed\n",
      "Epoch 64 loss: 1.682046903297305, 67 minute(s) 27 second(s) elapsed\n",
      "Epoch 65 loss: 1.7170296423137188, 68 minute(s) 33 second(s) elapsed\n",
      "Epoch 66 loss: 1.7094727121293545, 69 minute(s) 40 second(s) elapsed\n",
      "Epoch 67 loss: 1.6906136572360992, 70 minute(s) 41 second(s) elapsed\n",
      "Epoch 68 loss: 1.690705332905054, 71 minute(s) 42 second(s) elapsed\n",
      "Epoch 69 loss: 1.6707450654357672, 72 minute(s) 44 second(s) elapsed\n",
      "Epoch 70 loss: 1.6560082118958235, 73 minute(s) 46 second(s) elapsed\n",
      "Epoch 71 loss: 1.686171505600214, 74 minute(s) 47 second(s) elapsed\n",
      "Epoch 72 loss: 1.7039255779236555, 75 minute(s) 50 second(s) elapsed\n",
      "Epoch 73 loss: 1.7067911364138126, 76 minute(s) 52 second(s) elapsed\n",
      "Epoch 74 loss: 1.680635867640376, 77 minute(s) 56 second(s) elapsed\n",
      "Epoch 75 loss: 1.6409743875265121, 78 minute(s) 57 second(s) elapsed\n",
      "Epoch 76 loss: 1.6734348386526108, 80 minute(s) 1 second(s) elapsed\n",
      "Epoch 77 loss: 1.6587766967713833, 81 minute(s) 1 second(s) elapsed\n",
      "Epoch 78 loss: 1.6473224442452192, 82 minute(s) 4 second(s) elapsed\n",
      "Epoch 79 loss: 1.6388202961534262, 83 minute(s) 7 second(s) elapsed\n",
      "Epoch 80 loss: 1.6545547619462013, 84 minute(s) 10 second(s) elapsed\n",
      "Epoch 81 loss: 1.6492063198238611, 85 minute(s) 13 second(s) elapsed\n",
      "Epoch 82 loss: 1.6356039084494114, 86 minute(s) 14 second(s) elapsed\n",
      "Epoch 83 loss: 1.6316455993801355, 87 minute(s) 19 second(s) elapsed\n",
      "Epoch 84 loss: 1.6504109166562557, 88 minute(s) 22 second(s) elapsed\n",
      "Epoch 85 loss: 1.6185004897415638, 89 minute(s) 27 second(s) elapsed\n",
      "Epoch 86 loss: 1.6572397239506245, 90 minute(s) 31 second(s) elapsed\n",
      "Epoch 87 loss: 1.6608058009296656, 91 minute(s) 36 second(s) elapsed\n",
      "Epoch 88 loss: 1.6554267220199108, 92 minute(s) 39 second(s) elapsed\n",
      "Epoch 89 loss: 1.6579132210463285, 93 minute(s) 40 second(s) elapsed\n",
      "Epoch 90 loss: 1.597789166495204, 94 minute(s) 43 second(s) elapsed\n",
      "Epoch 91 loss: 1.5963285192847252, 95 minute(s) 44 second(s) elapsed\n",
      "Epoch 92 loss: 1.6265513803809881, 96 minute(s) 47 second(s) elapsed\n",
      "Epoch 93 loss: 1.6512688156217337, 97 minute(s) 52 second(s) elapsed\n",
      "Epoch 94 loss: 1.6106344163417816, 98 minute(s) 57 second(s) elapsed\n",
      "Epoch 95 loss: 1.6220528539270163, 100 minute(s) 3 second(s) elapsed\n",
      "Epoch 96 loss: 1.674793103709817, 101 minute(s) 7 second(s) elapsed\n",
      "Epoch 97 loss: 1.5741203464567661, 102 minute(s) 9 second(s) elapsed\n",
      "Epoch 98 loss: 1.6050749886780977, 103 minute(s) 14 second(s) elapsed\n",
      "Epoch 99 loss: 1.5812645964324474, 104 minute(s) 17 second(s) elapsed\n",
      "Epoch 100 loss: 1.6031794045120478, 105 minute(s) 20 second(s) elapsed\n",
      "Epoch 101 loss: 1.5925380513072014, 106 minute(s) 21 second(s) elapsed\n",
      "Epoch 102 loss: 1.60309767909348, 107 minute(s) 23 second(s) elapsed\n",
      "Epoch 103 loss: 1.623811561614275, 108 minute(s) 25 second(s) elapsed\n",
      "Epoch 104 loss: 1.599762286990881, 109 minute(s) 29 second(s) elapsed\n",
      "Epoch 105 loss: 1.5961184818297625, 110 minute(s) 34 second(s) elapsed\n",
      "Epoch 106 loss: 1.550012106075883, 111 minute(s) 33 second(s) elapsed\n",
      "Epoch 107 loss: 1.5629104245454073, 112 minute(s) 35 second(s) elapsed\n",
      "Epoch 108 loss: 1.5634238328784704, 113 minute(s) 38 second(s) elapsed\n",
      "Epoch 109 loss: 1.5717538986355066, 114 minute(s) 42 second(s) elapsed\n",
      "Epoch 110 loss: 1.5930292941629887, 115 minute(s) 45 second(s) elapsed\n",
      "Epoch 111 loss: 1.5833249129354954, 116 minute(s) 47 second(s) elapsed\n",
      "Epoch 112 loss: 1.553434131667018, 117 minute(s) 54 second(s) elapsed\n",
      "Epoch 113 loss: 1.6286392528563738, 118 minute(s) 58 second(s) elapsed\n",
      "Epoch 114 loss: 1.5778743140399456, 120 minute(s) 2 second(s) elapsed\n",
      "Epoch 115 loss: 1.6183913853019476, 121 minute(s) 9 second(s) elapsed\n",
      "Epoch 116 loss: 1.5385251082479954, 122 minute(s) 13 second(s) elapsed\n",
      "Epoch 117 loss: 1.5745564848184586, 123 minute(s) 15 second(s) elapsed\n",
      "Epoch 118 loss: 1.5654602143913507, 124 minute(s) 18 second(s) elapsed\n",
      "Epoch 119 loss: 1.5235265456140041, 125 minute(s) 22 second(s) elapsed\n"
     ]
    },
    {
     "name": "stdout",
     "output_type": "stream",
     "text": [
      "Epoch 120 loss: 1.577061841264367, 126 minute(s) 26 second(s) elapsed\n",
      "Epoch 121 loss: 1.538788603618741, 127 minute(s) 30 second(s) elapsed\n",
      "Epoch 122 loss: 1.5520944111049175, 128 minute(s) 34 second(s) elapsed\n",
      "Epoch 123 loss: 1.5822716504335403, 129 minute(s) 40 second(s) elapsed\n",
      "Epoch 124 loss: 1.552114786580205, 130 minute(s) 44 second(s) elapsed\n",
      "Epoch 125 loss: 1.5455526988953352, 131 minute(s) 48 second(s) elapsed\n",
      "Epoch 126 loss: 1.507245909422636, 132 minute(s) 53 second(s) elapsed\n",
      "Epoch 127 loss: 1.5496268384158611, 133 minute(s) 56 second(s) elapsed\n",
      "Epoch 128 loss: 1.5077277068048716, 135 minute(s) 0 second(s) elapsed\n"
     ]
    }
   ],
   "source": [
    "model.train(sherlock, seq_len, criterion, optimizer, num_epochs=num_epochs)"
   ]
  },
  {
   "cell_type": "code",
   "execution_count": 11,
   "metadata": {},
   "outputs": [],
   "source": [
    "torch.save(model.state_dict(), \"results/trained-models/GRU-Sherlock\")\n",
    "np.save(\"results/loss-histories/GRU-Sherlock\", model.loss_history)"
   ]
  },
  {
   "cell_type": "code",
   "execution_count": 8,
   "metadata": {},
   "outputs": [
    {
     "data": {
      "image/png": "[encoded data removed]",
      "text/plain": [
       "<matplotlib.figure.Figure at 0x7f0254efee80>"
      ]
     },
     "metadata": {},
     "output_type": "display_data"
    }
   ],
   "source": [
    "plt.plot(model.loss_history)\n",
    "plt.title(\"Loss History\")\n",
    "plt.ylabel(\"Loss\")\n",
    "plt.xlabel(\"Epoch\")\n",
    "plt.show()"
   ]
  },
  {
   "cell_type": "code",
   "execution_count": 14,
   "metadata": {},
   "outputs": [
    {
     "name": "stdout",
     "output_type": "stream",
     "text": [
      "Tlister of the band of the man of the stander of the standing in the man of the man with a strange of the door of the door and the daster and the man was a strange of the long of the man of the door was a past that the stander of the distante of the more that is a looked of the possible of the stational come the stable of the man, and I should have a strange to the pass of the man which was a stander of the man was a strange of the man of the door what has been have been the common and that I was a strange the morning of the man of the stranger which have a strange of the disin the darries of the dear which was a stander of the strange of the man when I can to the door with a stooply and the door. I could not see the distrace of the bord and the man of the stand which will to she was a strange of the part of the man who had been to the man is the pare that has but a face of the door of the dinder of the standing of the strange of the dear with a fare of the last of the man was a sholl that he case that he can see his dear and that I have the sight of the barker of the man of the some off a face of the stange of the land of the trains of the man which had been the father and as the door. I have a stand of the stand of the morning of the dark of the daid of the man of the door with a stranger of the man who was a some to the pare what had a stanked of the man which was a strange of the possion of the stanter of the man of the part of the passion of the matter of the man which have the door was a strange of the door was a chair of the door with a grime to my really that he was a friend of the distrange who had been a stable of the man of the door of the stand of the man which had been to his door which he could not have a could not have a stall and that he case the face of the possible and the past of the man which was a little dean in the other open the door of the more that I was a stand of the man which we can a can of the bost as the man as the door who had a good that he had a donet is a little as a carried of t\n"
     ]
    }
   ],
   "source": [
    "print(model.generate(2048))"
   ]
  }
 ],
 "metadata": {
  "kernelspec": {
   "display_name": "Python 3",
   "language": "python",
   "name": "python3"
  },
  "language_info": {
   "codemirror_mode": {
    "name": "ipython",
    "version": 3
   },
   "file_extension": ".py",
   "mimetype": "text/x-python",
   "name": "python",
   "nbconvert_exporter": "python",
   "pygments_lexer": "ipython3",
   "version": "3.6.3"
  }
 },
 "nbformat": 4,
 "nbformat_minor": 2
}
