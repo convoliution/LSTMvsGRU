{
 "cells": [
  {
   "cell_type": "markdown",
   "metadata": {},
   "source": [
    "# Imports"
   ]
  },
  {
   "cell_type": "code",
   "execution_count": 1,
   "metadata": {},
   "outputs": [],
   "source": [
    "import numpy as np\n",
    "\n",
    "import matplotlib.pyplot as plt\n",
    "\n",
    "import torch\n",
    "import torch.nn as nn\n",
    "import torch.optim as optim\n",
    "\n",
    "import os"
   ]
  },
  {
   "cell_type": "code",
   "execution_count": 2,
   "metadata": {},
   "outputs": [],
   "source": [
    "import models\n",
    "import utils"
   ]
  },
  {
   "cell_type": "markdown",
   "metadata": {},
   "source": [
    "# GPU"
   ]
  },
  {
   "cell_type": "code",
   "execution_count": 3,
   "metadata": {},
   "outputs": [
    {
     "name": "stdout",
     "output_type": "stream",
     "text": [
      "1\n"
     ]
    }
   ],
   "source": [
    "os.environ['CUDA_DEVICE_ORDER'] = 'PCI_BUS_ID'\n",
    "os.environ['CUDA_VISIBLE_DEVICES'] = '5'\n",
    "print(torch.cuda.device_count())"
   ]
  },
  {
   "cell_type": "markdown",
   "metadata": {},
   "source": [
    "# Data"
   ]
  },
  {
   "cell_type": "code",
   "execution_count": 4,
   "metadata": {},
   "outputs": [],
   "source": [
    "coldplay = utils.read_file(\"data/coldplay.txt\")"
   ]
  },
  {
   "cell_type": "markdown",
   "metadata": {},
   "source": [
    "# Model"
   ]
  },
  {
   "cell_type": "code",
   "execution_count": 5,
   "metadata": {},
   "outputs": [],
   "source": [
    "seq_len = 128\n",
    "hidden_size = 512\n",
    "learning_rate = 1e-3\n",
    "num_epochs = 128"
   ]
  },
  {
   "cell_type": "code",
   "execution_count": 6,
   "metadata": {},
   "outputs": [],
   "source": [
    "model = models.LSTM(utils.num_letters, hidden_size, utils.num_letters)\n",
    "criterion = nn.NLLLoss()\n",
    "optimizer = optim.Adam(model.parameters(), lr=learning_rate)"
   ]
  },
  {
   "cell_type": "code",
   "execution_count": 7,
   "metadata": {
    "scrolled": false
   },
   "outputs": [
    {
     "name": "stdout",
     "output_type": "stream",
     "text": [
      "Epoch 1 loss: 3.2737634778022766, 1 minute(s) 16 second(s) elapsed\n",
      "Epoch 2 loss: 3.1745677776634693, 2 minute(s) 20 second(s) elapsed\n",
      "Epoch 3 loss: 3.089809615164995, 3 minute(s) 23 second(s) elapsed\n",
      "Epoch 4 loss: 2.906774550676346, 4 minute(s) 28 second(s) elapsed\n",
      "Epoch 5 loss: 2.653576120734215, 5 minute(s) 34 second(s) elapsed\n",
      "Epoch 6 loss: 2.531678494066, 6 minute(s) 40 second(s) elapsed\n",
      "Epoch 7 loss: 2.461752213537693, 7 minute(s) 44 second(s) elapsed\n",
      "Epoch 8 loss: 2.3465560153126717, 8 minute(s) 47 second(s) elapsed\n",
      "Epoch 9 loss: 2.3262523096054792, 9 minute(s) 51 second(s) elapsed\n",
      "Epoch 10 loss: 2.242520332336426, 10 minute(s) 54 second(s) elapsed\n",
      "Epoch 11 loss: 2.2425214927643538, 11 minute(s) 57 second(s) elapsed\n",
      "Epoch 12 loss: 2.1908528357744217, 13 minute(s) 1 second(s) elapsed\n",
      "Epoch 13 loss: 2.1666831132024527, 14 minute(s) 3 second(s) elapsed\n",
      "Epoch 14 loss: 2.1047099474817514, 15 minute(s) 5 second(s) elapsed\n",
      "Epoch 15 loss: 2.0792750399559736, 16 minute(s) 9 second(s) elapsed\n",
      "Epoch 16 loss: 2.09405573643744, 17 minute(s) 13 second(s) elapsed\n",
      "Epoch 17 loss: 2.0119999554008245, 18 minute(s) 17 second(s) elapsed\n",
      "Epoch 18 loss: 2.0084017496556044, 19 minute(s) 21 second(s) elapsed\n",
      "Epoch 19 loss: 1.9620055444538593, 20 minute(s) 25 second(s) elapsed\n",
      "Epoch 20 loss: 1.9432450737804174, 21 minute(s) 26 second(s) elapsed\n",
      "Epoch 21 loss: 1.950602449476719, 22 minute(s) 28 second(s) elapsed\n",
      "Epoch 22 loss: 1.9169812127947807, 23 minute(s) 30 second(s) elapsed\n",
      "Epoch 23 loss: 1.9046646635979414, 24 minute(s) 33 second(s) elapsed\n",
      "Epoch 24 loss: 1.8225037846714258, 25 minute(s) 38 second(s) elapsed\n",
      "Epoch 25 loss: 1.7944761402904987, 26 minute(s) 42 second(s) elapsed\n",
      "Epoch 26 loss: 1.8568911384791136, 27 minute(s) 49 second(s) elapsed\n",
      "Epoch 27 loss: 1.8092574197798967, 28 minute(s) 54 second(s) elapsed\n",
      "Epoch 28 loss: 1.7920269183814526, 30 minute(s) 2 second(s) elapsed\n",
      "Epoch 29 loss: 1.768246404826641, 31 minute(s) 5 second(s) elapsed\n",
      "Epoch 30 loss: 1.7117560394108295, 32 minute(s) 7 second(s) elapsed\n",
      "Epoch 31 loss: 1.7339420430362225, 33 minute(s) 9 second(s) elapsed\n",
      "Epoch 32 loss: 1.721672611311078, 34 minute(s) 10 second(s) elapsed\n",
      "Epoch 33 loss: 1.679207812063396, 35 minute(s) 14 second(s) elapsed\n",
      "Epoch 34 loss: 1.664135029539466, 36 minute(s) 17 second(s) elapsed\n",
      "Epoch 35 loss: 1.6789675550535321, 37 minute(s) 20 second(s) elapsed\n",
      "Epoch 36 loss: 1.6968905786052346, 38 minute(s) 26 second(s) elapsed\n",
      "Epoch 37 loss: 1.6483180252835155, 39 minute(s) 29 second(s) elapsed\n",
      "Epoch 38 loss: 1.6175842490047216, 40 minute(s) 31 second(s) elapsed\n",
      "Epoch 39 loss: 1.6343577625229955, 41 minute(s) 34 second(s) elapsed\n",
      "Epoch 40 loss: 1.6281518824398518, 42 minute(s) 39 second(s) elapsed\n",
      "Epoch 41 loss: 1.6128640938550234, 43 minute(s) 43 second(s) elapsed\n",
      "Epoch 42 loss: 1.5807288996875286, 44 minute(s) 45 second(s) elapsed\n",
      "Epoch 43 loss: 1.5806622067466378, 45 minute(s) 49 second(s) elapsed\n",
      "Epoch 44 loss: 1.557467170059681, 46 minute(s) 55 second(s) elapsed\n",
      "Epoch 45 loss: 1.545454784296453, 47 minute(s) 59 second(s) elapsed\n",
      "Epoch 46 loss: 1.5534235164523125, 49 minute(s) 3 second(s) elapsed\n",
      "Epoch 47 loss: 1.5392923261970282, 50 minute(s) 5 second(s) elapsed\n",
      "Epoch 48 loss: 1.500756585970521, 51 minute(s) 9 second(s) elapsed\n",
      "Epoch 49 loss: 1.5332359867170453, 52 minute(s) 13 second(s) elapsed\n",
      "Epoch 50 loss: 1.5426372699439526, 53 minute(s) 15 second(s) elapsed\n",
      "Epoch 51 loss: 1.556131662800908, 54 minute(s) 18 second(s) elapsed\n",
      "Epoch 52 loss: 1.447151725180447, 55 minute(s) 20 second(s) elapsed\n",
      "Epoch 53 loss: 1.390236291103065, 56 minute(s) 27 second(s) elapsed\n",
      "Epoch 54 loss: 1.448148712515831, 57 minute(s) 32 second(s) elapsed\n",
      "Epoch 55 loss: 1.4427137672901154, 58 minute(s) 36 second(s) elapsed\n",
      "Epoch 56 loss: 1.4775807792320848, 59 minute(s) 43 second(s) elapsed\n",
      "Epoch 57 loss: 1.5037683621048927, 60 minute(s) 49 second(s) elapsed\n",
      "Epoch 58 loss: 1.5097316429018974, 61 minute(s) 50 second(s) elapsed\n",
      "Epoch 59 loss: 1.4113365532830358, 62 minute(s) 54 second(s) elapsed\n",
      "Epoch 60 loss: 1.3865955183282495, 63 minute(s) 55 second(s) elapsed\n",
      "Epoch 61 loss: 1.3570950794965029, 65 minute(s) 0 second(s) elapsed\n",
      "Epoch 62 loss: 1.3976716957986355, 66 minute(s) 2 second(s) elapsed\n",
      "Epoch 63 loss: 1.5119764721021056, 67 minute(s) 7 second(s) elapsed\n",
      "Epoch 64 loss: 1.387643938884139, 68 minute(s) 14 second(s) elapsed\n",
      "Epoch 65 loss: 1.419357649050653, 69 minute(s) 20 second(s) elapsed\n",
      "Epoch 66 loss: 1.3311376487836242, 70 minute(s) 23 second(s) elapsed\n",
      "Epoch 67 loss: 1.3910867981612682, 71 minute(s) 23 second(s) elapsed\n",
      "Epoch 68 loss: 1.3113545160740614, 72 minute(s) 26 second(s) elapsed\n",
      "Epoch 69 loss: 1.359160017222166, 73 minute(s) 29 second(s) elapsed\n",
      "Epoch 70 loss: 1.334168516099453, 74 minute(s) 31 second(s) elapsed\n",
      "Epoch 71 loss: 1.336370188742876, 75 minute(s) 34 second(s) elapsed\n",
      "Epoch 72 loss: 1.2913647331297398, 76 minute(s) 40 second(s) elapsed\n",
      "Epoch 73 loss: 1.321769422851503, 77 minute(s) 43 second(s) elapsed\n",
      "Epoch 74 loss: 1.3511469354853034, 78 minute(s) 47 second(s) elapsed\n",
      "Epoch 75 loss: 1.3181466832756996, 79 minute(s) 53 second(s) elapsed\n",
      "Epoch 76 loss: 1.3767884960398078, 80 minute(s) 55 second(s) elapsed\n",
      "Epoch 77 loss: 1.3074553990736604, 81 minute(s) 58 second(s) elapsed\n",
      "Epoch 78 loss: 1.2673696428537369, 83 minute(s) 1 second(s) elapsed\n",
      "Epoch 79 loss: 1.2686456604860723, 84 minute(s) 5 second(s) elapsed\n",
      "Epoch 80 loss: 1.3484487170353532, 85 minute(s) 10 second(s) elapsed\n",
      "Epoch 81 loss: 1.303579949773848, 86 minute(s) 12 second(s) elapsed\n",
      "Epoch 82 loss: 1.305117775220424, 87 minute(s) 18 second(s) elapsed\n",
      "Epoch 83 loss: 1.3142431350424886, 88 minute(s) 22 second(s) elapsed\n",
      "Epoch 84 loss: 1.2619661502540112, 89 minute(s) 29 second(s) elapsed\n",
      "Epoch 85 loss: 1.2149404287338257, 90 minute(s) 36 second(s) elapsed\n",
      "Epoch 86 loss: 1.2792588602751493, 91 minute(s) 41 second(s) elapsed\n",
      "Epoch 87 loss: 1.2660670150071383, 92 minute(s) 44 second(s) elapsed\n",
      "Epoch 88 loss: 1.182318120263517, 93 minute(s) 45 second(s) elapsed\n",
      "Epoch 89 loss: 1.239748083986342, 94 minute(s) 47 second(s) elapsed\n",
      "Epoch 90 loss: 1.2617940865457058, 95 minute(s) 48 second(s) elapsed\n",
      "Epoch 91 loss: 1.2628675624728203, 96 minute(s) 50 second(s) elapsed\n",
      "Epoch 92 loss: 1.2305903523229063, 97 minute(s) 58 second(s) elapsed\n",
      "Epoch 93 loss: 1.2215521456673741, 99 minute(s) 3 second(s) elapsed\n",
      "Epoch 94 loss: 1.2323760390281677, 100 minute(s) 8 second(s) elapsed\n",
      "Epoch 95 loss: 1.2316052909009159, 101 minute(s) 13 second(s) elapsed\n",
      "Epoch 96 loss: 1.2513544224202633, 102 minute(s) 19 second(s) elapsed\n",
      "Epoch 97 loss: 1.2157913073897362, 103 minute(s) 24 second(s) elapsed\n",
      "Epoch 98 loss: 1.2590330252423882, 104 minute(s) 27 second(s) elapsed\n",
      "Epoch 99 loss: 1.2174327811226249, 105 minute(s) 28 second(s) elapsed\n",
      "Epoch 100 loss: 1.139526884071529, 106 minute(s) 32 second(s) elapsed\n",
      "Epoch 101 loss: 1.2011128356680274, 107 minute(s) 35 second(s) elapsed\n",
      "Epoch 102 loss: 1.1221748529933393, 108 minute(s) 39 second(s) elapsed\n",
      "Epoch 103 loss: 1.1459065731614828, 109 minute(s) 43 second(s) elapsed\n",
      "Epoch 104 loss: 1.1500212212558836, 110 minute(s) 49 second(s) elapsed\n",
      "Epoch 105 loss: 1.1923768711276352, 111 minute(s) 51 second(s) elapsed\n",
      "Epoch 106 loss: 1.2582643972709775, 112 minute(s) 54 second(s) elapsed\n",
      "Epoch 107 loss: 1.232609348371625, 113 minute(s) 58 second(s) elapsed\n",
      "Epoch 108 loss: 1.2164365062490106, 115 minute(s) 1 second(s) elapsed\n",
      "Epoch 109 loss: 1.1472702040337026, 116 minute(s) 3 second(s) elapsed\n",
      "Epoch 110 loss: 1.0982724074274302, 117 minute(s) 9 second(s) elapsed\n",
      "Epoch 111 loss: 1.1186783071607351, 118 minute(s) 16 second(s) elapsed\n",
      "Epoch 112 loss: 1.148334976285696, 119 minute(s) 21 second(s) elapsed\n",
      "Epoch 113 loss: 1.1127026905305684, 120 minute(s) 25 second(s) elapsed\n",
      "Epoch 114 loss: 1.0787604926154017, 121 minute(s) 29 second(s) elapsed\n",
      "Epoch 115 loss: 1.1624066112563014, 122 minute(s) 30 second(s) elapsed\n",
      "Epoch 116 loss: 1.109062404371798, 123 minute(s) 31 second(s) elapsed\n",
      "Epoch 117 loss: 1.16455193515867, 124 minute(s) 34 second(s) elapsed\n",
      "Epoch 118 loss: 1.0769942039623857, 125 minute(s) 36 second(s) elapsed\n",
      "Epoch 119 loss: 1.1370991098228842, 126 minute(s) 39 second(s) elapsed\n"
     ]
    },
    {
     "name": "stdout",
     "output_type": "stream",
     "text": [
      "Epoch 120 loss: 1.0773918768391013, 127 minute(s) 42 second(s) elapsed\n",
      "Epoch 121 loss: 1.1301858299411833, 128 minute(s) 46 second(s) elapsed\n",
      "Epoch 122 loss: 1.0557509548962116, 129 minute(s) 51 second(s) elapsed\n",
      "Epoch 123 loss: 1.059936155565083, 130 minute(s) 53 second(s) elapsed\n",
      "Epoch 124 loss: 1.0085307555273175, 131 minute(s) 57 second(s) elapsed\n",
      "Epoch 125 loss: 1.1327047189697623, 133 minute(s) 0 second(s) elapsed\n",
      "Epoch 126 loss: 1.0821169610135257, 134 minute(s) 2 second(s) elapsed\n",
      "Epoch 127 loss: 1.0503774285316467, 135 minute(s) 6 second(s) elapsed\n",
      "Epoch 128 loss: 1.0584971797652543, 136 minute(s) 0 second(s) elapsed\n"
     ]
    }
   ],
   "source": [
    "model.train(coldplay, seq_len, criterion, optimizer, num_epochs=num_epochs)"
   ]
  },
  {
   "cell_type": "code",
   "execution_count": 11,
   "metadata": {},
   "outputs": [],
   "source": [
    "torch.save(model.state_dict(), \"results/trained-models/GRU-Coldplay\")\n",
    "np.save(\"results/loss-histories/GRU-Coldplay\", model.loss_history)"
   ]
  },
  {
   "cell_type": "code",
   "execution_count": 8,
   "metadata": {},
   "outputs": [
    {
     "data": {
      "image/png": "[encoded data removed]",
      "text/plain": [
       "<matplotlib.figure.Figure at 0x7f8c85085278>"
      ]
     },
     "metadata": {},
     "output_type": "display_data"
    }
   ],
   "source": [
    "plt.plot(model.loss_history)\n",
    "plt.title(\"Loss History\")\n",
    "plt.ylabel(\"Loss\")\n",
    "plt.xlabel(\"Epoch\")\n",
    "plt.show()"
   ]
  },
  {
   "cell_type": "code",
   "execution_count": 13,
   "metadata": {},
   "outputs": [
    {
     "name": "stdout",
     "output_type": "stream",
     "text": [
      "Tter the stars\n",
      "Light up the streets I wanna go\n",
      "And don't want to change\n",
      "Sometimes I want to go\n",
      "\n",
      "\n",
      "\n",
      "Light op the hardest part\n",
      "Was lost, oh where do you can\n",
      "\n",
      "\n",
      "\n",
      "\n",
      "\n",
      "\n",
      "When I look at all\n",
      "Such a long way to drum nowhere to the mading\n",
      "The world means to draw the way of seeming on the sea\n",
      "And the world in my head\n",
      "All that we don't know what you'll never lone\n",
      "I want something just living\n",
      "\n",
      "And then I'm on my head\n",
      "Oh, oh, yeah\n",
      "Oh, oh, yeah\n",
      "And ever teln the thought and the street\n",
      "\n",
      "\n",
      "\n",
      "In the rain\n",
      "\n",
      "The sun will started the way of see\n",
      "And the sky won't touch the daylight\n",
      "Slowly breaking through the daylight\n",
      "Slowly breaking through the daylight\n",
      "\n",
      "\n",
      "\n",
      "\n",
      "Long and the way the world\n",
      "\n",
      "\n",
      "\n",
      "I wanna got the street\n",
      "\n",
      "\n",
      "\n",
      "\n",
      "\n",
      "We say what I don't know what it feels like this\n",
      "\n",
      "I wanna live in a breating to me\n",
      "\n",
      "And I cannot let me go\n",
      "And don't know what they shine for you\n",
      "For you\n",
      "For you\n",
      "For you\n",
      "For you\n",
      "For you\n",
      "For you\n",
      "For you\n",
      "Feels living in the rain\n",
      "Oh oh oh oh oh oh oh oh\n",
      "Oh oh\n",
      "\n",
      "\n",
      "\n",
      "When you're the stars, the street\n",
      "Oh you'd see it all around\n",
      "\n",
      "So I came flomes, stating through the daylight\n",
      "Slowly breaking through the daylight\n",
      "Slowly breaking through the daylight\n",
      "Slowly breaking through the daylight\n",
      "Slowly breaking through the dark\n",
      "And dive mack to the sun\n",
      "And the way the sky\n",
      "That you don't mind to be you\n",
      "And everything's not lost\n",
      "\n",
      "Come on, yeah\n",
      "And everything's not lost\n",
      "\n",
      "\n",
      "\n",
      "I wanna go fall around\n",
      "I see it was eas\n",
      "\n",
      "\n",
      "\n",
      "One daycoud and it's all again\n",
      "And the waiting for the sky\n",
      "That I could be not lost\n",
      "\n",
      "Could be waiting for the sun and shine\n",
      "All that I'm gonna buy thisge a warning to as a part\n",
      "And sing it on\n",
      "\n",
      "\n",
      "The lights a whisper, a whisper\n",
      "\n",
      "I wanna live in a beautiful world\n",
      "\n",
      "\n",
      "\n",
      "Oh yeah\n",
      "Oh, oh, yeah\n",
      "Oh, oh, yeah\n",
      "Oh, oh, yead\n",
      "Oh, oh, yeah\n",
      "Oh, oh, oh\n",
      "Oh oh\n",
      "Oh oh\n",
      "\n",
      "\n",
      "\n",
      "When I'm lost what I tried to do you wanna go\n",
      "How long my flyown and stands\n",
      "It's such a this loud and start my head\n",
      "And they were wat the sunset\n",
      "And the wirds to the streets\n",
      "I wanna live in a beautiful\n",
      "Something will guide\n",
      "We long my heart, yeah\n",
      "And everything's not lost\n",
      "\n",
      "And then they wants to do you\n"
     ]
    }
   ],
   "source": [
    "print(model.generate(2048))"
   ]
  }
 ],
 "metadata": {
  "kernelspec": {
   "display_name": "Python 3",
   "language": "python",
   "name": "python3"
  },
  "language_info": {
   "codemirror_mode": {
    "name": "ipython",
    "version": 3
   },
   "file_extension": ".py",
   "mimetype": "text/x-python",
   "name": "python",
   "nbconvert_exporter": "python",
   "pygments_lexer": "ipython3",
   "version": "3.6.3"
  }
 },
 "nbformat": 4,
 "nbformat_minor": 2
}
